{
 "cells": [
  {
   "cell_type": "markdown",
   "id": "bb3a361b-68bc-4c9a-96cb-562c586f9752",
   "metadata": {
    "jp-MarkdownHeadingCollapsed": true
   },
   "source": [
    "# About this Practical Session\n",
    "\n",
    "In this practical session, we will utilize the metapopulation model developed in the previous notebook to examine different scenarios of disease spread.\n",
    "\n",
    "In particular, we will perform the following steps:\n",
    "1. Create and use the metapopulation class\n",
    "2. Synchronization examples\n",
    "3. Real-case scenario using data from the first practical session\n",
    "4. Hub infection dynamics"
   ]
  },
  {
   "cell_type": "markdown",
   "id": "04b60e0d-a03a-409e-a3aa-c410b4ca167d",
   "metadata": {},
   "source": [
    "# Import libraries"
   ]
  },
  {
   "cell_type": "code",
   "execution_count": 1,
   "id": "c7b68006-a859-40a3-b8cc-2b0a23d63bd8",
   "metadata": {},
   "outputs": [],
   "source": [
    "import pandas as pd\n",
    "import numpy as np\n",
    "from matplotlib import pyplot as plt\n",
    "import matplotlib as mpl\n",
    "from copy import copy, deepcopy\n",
    "\n",
    "import os\n",
    "import geopandas as gpd\n",
    "\n",
    "rng = np.random.default_rng() # random number generator\n",
    "from itertools import combinations\n",
    "import time"
   ]
  },
  {
   "cell_type": "markdown",
   "id": "845b1747-35ec-4667-9d5f-6e80e8a09970",
   "metadata": {},
   "source": [
    "# 1) The Metapopulation class\n",
    "\n",
    "## Definition\n",
    "Here is defined the Metapopulation class. It integrates the code from the last notebook into a class that is easy to use."
   ]
  },
  {
   "cell_type": "code",
   "execution_count": 8,
   "id": "cf20078f-e6fd-4067-a9aa-bca6654def0f",
   "metadata": {},
   "outputs": [],
   "source": [
    "def transitions(comp, inc, fromCompartment, toCompartment, rate, step, rng):\n",
    "    '''\n",
    "    This function modifies the arrays `comp` (compartment occupancy for each patch) and `inc` (compartment incidence for each patch).\n",
    "    It updates the values at the given `step` to account for the transition between compartments based on binomial extractions.\n",
    "    It assume the comp array at `step` is filled with the values of comp array at `step-1`\n",
    "\n",
    "    Parameters:\n",
    "    - comp: 3D array, compartment occupancy for each patch over time\n",
    "    - inc: 3D array, compartment incidence for each patch over time\n",
    "    - fromCompartment: int, index of the compartment transitioning from\n",
    "    - toCompartment: int, index of the compartment transitioning to\n",
    "    - rate: float or array-like, transition rate or rates for each patch\n",
    "    - step: int, current time step of the simulation\n",
    "\n",
    "    Example:\n",
    "    transitions(comp, inc, 1, 2, eps, 20) --> transitions from compartment 1 (E) to compartment 2 (I) with rate eps at time step 20\n",
    "    '''\n",
    "    \n",
    "    transitions = rng.binomial(comp[step-1, :, fromCompartment], 1-np.exp(-rate))\n",
    "    \n",
    "    comp[step, :, toCompartment] += transitions\n",
    "    comp[step, :, fromCompartment] -= transitions\n",
    "\n",
    "    inc[step, :, toCompartment] += transitions\n"
   ]
  },
  {
   "cell_type": "code",
   "execution_count": 9,
   "id": "6d220064-2637-4325-bd15-b8a9fa3a8024",
   "metadata": {},
   "outputs": [],
   "source": [
    "class metapopSEIR():\n",
    "    '''\n",
    "    The `metapopSEIR` class implements a simulation of a metapopulation SEIR.\n",
    "\n",
    "    Parameters:\n",
    "    ----------\n",
    "    beta : float\n",
    "        Transmission rate of the disease.\n",
    "    eps : float\n",
    "        Rate of transition from exposed (E) to infectious (I) state.\n",
    "    mu : float\n",
    "        Rate of transition from infectious (I) to recovered (R) state.\n",
    "    populations : pd.DataFrame\n",
    "        DataFrame containing population sizes of each patch.\n",
    "    travels : pd.DataFrame\n",
    "        DataFrame specifying the travel between patches, including the number of passengers.\n",
    "    initE : int\n",
    "        Initial number of exposed individuals in a specified patch.\n",
    "    initPatch : int\n",
    "        Index of the patch where initial exposed individuals are located.\n",
    "    nSteps : int\n",
    "        Number of simulation steps to run.\n",
    "\n",
    "    \n",
    "    Methods:\n",
    "    -------\n",
    "    run():\n",
    "        Runs the simulation \n",
    "\n",
    "    getPrevalence():\n",
    "        Returns a DataFrame containing the prevalence (total count) of each SEIR compartment (S, E, I, R) for each patch over time.\n",
    "\n",
    "    getIncidence():\n",
    "        Returns a DataFrame containing the incidence (new cases) of each SEIR compartment (S, E, I, R) for each patch over time.\n",
    "    '''\n",
    "\n",
    "    \n",
    "    def __init__(self, \n",
    "                 beta:'float',\n",
    "                 eps:'float',\n",
    "                 mu:'float',\n",
    "                 populations:'pd.DataFrame',\n",
    "                 travels:'pd.DataFrame',\n",
    "                 initE:'int', \n",
    "                 initPatch:'int',\n",
    "                 nSteps:'int',\n",
    "                ):\n",
    "        \n",
    "        self.nameCompartmens = ['S','E','I','R']\n",
    "        self.beta, self.eps, self.mu = beta, eps, mu    \n",
    "        self.populations = populations.copy()\n",
    "        self.travels = travels.copy()\n",
    "        self.initE = initE\n",
    "        self.initPatch = initPatch\n",
    "        self.nSteps = nSteps\n",
    "        self.rng = np.random.default_rng(int(time.time()))\n",
    "        \n",
    "        self.nCompartmens = 4\n",
    "        self.nPatches = len(populations)\n",
    "    \n",
    "        self.comp = np.zeros((self.nSteps, self.nPatches, self.nCompartmens), dtype=np.int64)\n",
    "        self.inc = np.zeros((self.nSteps, self.nPatches, self.nCompartmens), dtype=np.int64)\n",
    "        self.incT = np.zeros((self.nSteps, self.nPatches, self.nCompartmens), dtype=np.int64)\n",
    "\n",
    "        self.setInitialCondition()\n",
    "        self.modifytravels()\n",
    "    \n",
    "    def setInitialCondition(self):\n",
    "        self.comp[0,:,0] = self.populations['pop'].values\n",
    "        \n",
    "        self.comp[0,self.initPatch,1] += self.initE\n",
    "        self.comp[0,self.initPatch,0] -= self.initE\n",
    "        self.inc[0,self.initPatch,1] += self.initE\n",
    "\n",
    "    def modifytravels(self):\n",
    "        '''\n",
    "        This function modify the provided travels dataset by creating a symmetric mobility matrix that contains the probability of travel between each couple of patches\n",
    "        '''\n",
    "        # create a symmetric matrix of travels \n",
    "        self.travels = self.travels[['passengers']]\n",
    "        travelsMatrix = pd.concat([self.travels, self.travels.rename_axis(['to','from']).reorder_levels((1,0))])\n",
    "        travelsMatrix = travelsMatrix.unstack().fillna(0)\n",
    "        travelsMatrix = travelsMatrix.sort_index(axis=1).sort_index(axis=1)\n",
    "        \n",
    "        #fill diagonal \n",
    "        np.fill_diagonal(travelsMatrix.values, self.populations['pop'] - travelsMatrix.sum(1))\n",
    "        \n",
    "        #divide by population --> probability of travels\n",
    "        travelsMatrix = travelsMatrix.divide(self.populations['pop'], axis=0)\n",
    "        \n",
    "        self.travelsMatrix = travelsMatrix \n",
    "\n",
    "\n",
    "    def run(self):\n",
    "        for currentStep in np.arange(1,self.nSteps): \n",
    "        \n",
    "            \n",
    "            # disease step \n",
    "            self.comp[currentStep, :, :] = self.comp[currentStep-1, :, :]\n",
    "            # spontaneous E-->I and I-->R\n",
    "            transitions(comp=self.comp, inc=self.inc, fromCompartment=1, toCompartment=2, rate=self.eps, step=currentStep, rng=self.rng)\n",
    "            transitions(comp=self.comp, inc=self.inc, fromCompartment=2, toCompartment=3, rate=self.mu, step=currentStep, rng=self.rng)\n",
    "        \n",
    "            # mediated transition S-->E\n",
    "            mediatedRate = self.beta * self.comp[currentStep-1,:,2] / self.comp[currentStep-1,:,:].sum(1)\n",
    "            transitions(comp=self.comp, inc=self.inc, fromCompartment=0, toCompartment=1, rate=mediatedRate, step=currentStep, rng=self.rng)\n",
    "\n",
    "            # travle step \n",
    "            self.comp[currentStep,:,:] = self.rng.multinomial(self.comp[currentStep,:,:].T, self.travelsMatrix.values).T.sum(1)\n",
    "\n",
    "        return self\n",
    "    \n",
    "    def getPrevalence(self):\n",
    "        df = pd.DataFrame(self.comp.reshape(-1, self.nCompartmens * self.nPatches))\n",
    "        df.columns = pd.MultiIndex.from_product((self.populations['name'],self.nameCompartmens), names=['patch','compartment'])   \n",
    "        return df \n",
    "\n",
    "    def getIncidence(self):\n",
    "        df = pd.DataFrame(self.inc.reshape(-1, self.nCompartmens * self.nPatches))\n",
    "        df.columns = pd.MultiIndex.from_product((self.populations['name'],self.nameCompartmens), names=['patch','compartment'])   \n",
    "        return df \n",
    "        "
   ]
  },
  {
   "cell_type": "markdown",
   "id": "1547605e-ceb1-4bf4-877b-6ad450bf6623",
   "metadata": {},
   "source": [
    "## Usage of the metapopulation class"
   ]
  },
  {
   "cell_type": "code",
   "execution_count": 10,
   "id": "8316d42d-f77e-461b-a959-4b3b11b5b5c2",
   "metadata": {},
   "outputs": [
    {
     "data": {
      "text/html": [
       "<div>\n",
       "<style scoped>\n",
       "    .dataframe tbody tr th:only-of-type {\n",
       "        vertical-align: middle;\n",
       "    }\n",
       "\n",
       "    .dataframe tbody tr th {\n",
       "        vertical-align: top;\n",
       "    }\n",
       "\n",
       "    .dataframe thead th {\n",
       "        text-align: right;\n",
       "    }\n",
       "</style>\n",
       "<table border=\"1\" class=\"dataframe\">\n",
       "  <thead>\n",
       "    <tr style=\"text-align: right;\">\n",
       "      <th></th>\n",
       "      <th>pop</th>\n",
       "      <th>name</th>\n",
       "    </tr>\n",
       "  </thead>\n",
       "  <tbody>\n",
       "    <tr>\n",
       "      <th>0</th>\n",
       "      <td>10000.0</td>\n",
       "      <td>patch 0</td>\n",
       "    </tr>\n",
       "    <tr>\n",
       "      <th>1</th>\n",
       "      <td>1000.0</td>\n",
       "      <td>patch 1</td>\n",
       "    </tr>\n",
       "    <tr>\n",
       "      <th>2</th>\n",
       "      <td>10000.0</td>\n",
       "      <td>patch 2</td>\n",
       "    </tr>\n",
       "  </tbody>\n",
       "</table>\n",
       "</div>"
      ],
      "text/plain": [
       "       pop     name\n",
       "0  10000.0  patch 0\n",
       "1   1000.0  patch 1\n",
       "2  10000.0  patch 2"
      ]
     },
     "execution_count": 10,
     "metadata": {},
     "output_type": "execute_result"
    }
   ],
   "source": [
    "# Define population dataset\n",
    "population = [1e4, 1e3, 1e4] \n",
    "namePatches = [f'patch {i}' for i in range(len(population))] \n",
    "populations = pd.DataFrame(zip(population, namePatches), columns=['pop', 'name'])  \n",
    "populations.head()"
   ]
  },
  {
   "cell_type": "code",
   "execution_count": 11,
   "id": "ca772bf2-668a-4d1c-8072-841003d5f2a6",
   "metadata": {},
   "outputs": [
    {
     "data": {
      "text/html": [
       "<div>\n",
       "<style scoped>\n",
       "    .dataframe tbody tr th:only-of-type {\n",
       "        vertical-align: middle;\n",
       "    }\n",
       "\n",
       "    .dataframe tbody tr th {\n",
       "        vertical-align: top;\n",
       "    }\n",
       "\n",
       "    .dataframe thead th {\n",
       "        text-align: right;\n",
       "    }\n",
       "</style>\n",
       "<table border=\"1\" class=\"dataframe\">\n",
       "  <thead>\n",
       "    <tr style=\"text-align: right;\">\n",
       "      <th></th>\n",
       "      <th></th>\n",
       "      <th>passengers</th>\n",
       "    </tr>\n",
       "    <tr>\n",
       "      <th>from</th>\n",
       "      <th>to</th>\n",
       "      <th></th>\n",
       "    </tr>\n",
       "  </thead>\n",
       "  <tbody>\n",
       "    <tr>\n",
       "      <th>0</th>\n",
       "      <th>1</th>\n",
       "      <td>20</td>\n",
       "    </tr>\n",
       "    <tr>\n",
       "      <th>1</th>\n",
       "      <th>2</th>\n",
       "      <td>200</td>\n",
       "    </tr>\n",
       "  </tbody>\n",
       "</table>\n",
       "</div>"
      ],
      "text/plain": [
       "         passengers\n",
       "from to            \n",
       "0    1           20\n",
       "1    2          200"
      ]
     },
     "execution_count": 11,
     "metadata": {},
     "output_type": "execute_result"
    }
   ],
   "source": [
    "# Define travel dataset\n",
    "travels = pd.DataFrame([[0,1,20],[1,2,200]], columns=['from', 'to', 'passengers']).set_index(['from','to'])\n",
    "travels.head(2)"
   ]
  },
  {
   "cell_type": "code",
   "execution_count": 12,
   "id": "b7db30f9-79ac-4b6d-8924-24ccaf26143c",
   "metadata": {},
   "outputs": [],
   "source": [
    "# Define and run a model\n",
    "model = metapopSEIR(beta = 0.5,\n",
    "                    eps = 0.2,\n",
    "                    mu = 0.2,\n",
    "                    populations = populations,\n",
    "                    travels = travels,\n",
    "                    initE = 10,\n",
    "                    initPatch = 2,\n",
    "                    nSteps = 700)\n",
    "model.run();"
   ]
  },
  {
   "cell_type": "code",
   "execution_count": 13,
   "id": "386d3f58-3f84-4d48-bbd5-2cbd4e9e92e5",
   "metadata": {},
   "outputs": [
    {
     "data": {
      "text/html": [
       "<div>\n",
       "<style scoped>\n",
       "    .dataframe tbody tr th:only-of-type {\n",
       "        vertical-align: middle;\n",
       "    }\n",
       "\n",
       "    .dataframe tbody tr th {\n",
       "        vertical-align: top;\n",
       "    }\n",
       "\n",
       "    .dataframe thead tr th {\n",
       "        text-align: left;\n",
       "    }\n",
       "</style>\n",
       "<table border=\"1\" class=\"dataframe\">\n",
       "  <thead>\n",
       "    <tr>\n",
       "      <th>patch</th>\n",
       "      <th colspan=\"4\" halign=\"left\">patch 0</th>\n",
       "      <th colspan=\"4\" halign=\"left\">patch 1</th>\n",
       "      <th colspan=\"4\" halign=\"left\">patch 2</th>\n",
       "    </tr>\n",
       "    <tr>\n",
       "      <th>compartment</th>\n",
       "      <th>S</th>\n",
       "      <th>E</th>\n",
       "      <th>I</th>\n",
       "      <th>R</th>\n",
       "      <th>S</th>\n",
       "      <th>E</th>\n",
       "      <th>I</th>\n",
       "      <th>R</th>\n",
       "      <th>S</th>\n",
       "      <th>E</th>\n",
       "      <th>I</th>\n",
       "      <th>R</th>\n",
       "    </tr>\n",
       "  </thead>\n",
       "  <tbody>\n",
       "    <tr>\n",
       "      <th>0</th>\n",
       "      <td>10000</td>\n",
       "      <td>0</td>\n",
       "      <td>0</td>\n",
       "      <td>0</td>\n",
       "      <td>1000</td>\n",
       "      <td>0</td>\n",
       "      <td>0</td>\n",
       "      <td>0</td>\n",
       "      <td>9990</td>\n",
       "      <td>10</td>\n",
       "      <td>0</td>\n",
       "      <td>0</td>\n",
       "    </tr>\n",
       "    <tr>\n",
       "      <th>1</th>\n",
       "      <td>10009</td>\n",
       "      <td>0</td>\n",
       "      <td>0</td>\n",
       "      <td>0</td>\n",
       "      <td>977</td>\n",
       "      <td>0</td>\n",
       "      <td>0</td>\n",
       "      <td>0</td>\n",
       "      <td>10004</td>\n",
       "      <td>9</td>\n",
       "      <td>1</td>\n",
       "      <td>0</td>\n",
       "    </tr>\n",
       "    <tr>\n",
       "      <th>2</th>\n",
       "      <td>10006</td>\n",
       "      <td>0</td>\n",
       "      <td>0</td>\n",
       "      <td>0</td>\n",
       "      <td>962</td>\n",
       "      <td>0</td>\n",
       "      <td>0</td>\n",
       "      <td>0</td>\n",
       "      <td>10020</td>\n",
       "      <td>10</td>\n",
       "      <td>2</td>\n",
       "      <td>0</td>\n",
       "    </tr>\n",
       "    <tr>\n",
       "      <th>3</th>\n",
       "      <td>9992</td>\n",
       "      <td>0</td>\n",
       "      <td>0</td>\n",
       "      <td>0</td>\n",
       "      <td>990</td>\n",
       "      <td>0</td>\n",
       "      <td>0</td>\n",
       "      <td>0</td>\n",
       "      <td>10006</td>\n",
       "      <td>10</td>\n",
       "      <td>2</td>\n",
       "      <td>0</td>\n",
       "    </tr>\n",
       "    <tr>\n",
       "      <th>4</th>\n",
       "      <td>9998</td>\n",
       "      <td>0</td>\n",
       "      <td>0</td>\n",
       "      <td>0</td>\n",
       "      <td>998</td>\n",
       "      <td>0</td>\n",
       "      <td>0</td>\n",
       "      <td>0</td>\n",
       "      <td>9991</td>\n",
       "      <td>10</td>\n",
       "      <td>2</td>\n",
       "      <td>1</td>\n",
       "    </tr>\n",
       "  </tbody>\n",
       "</table>\n",
       "</div>"
      ],
      "text/plain": [
       "patch       patch 0          patch 1          patch 2          \n",
       "compartment       S  E  I  R       S  E  I  R       S   E  I  R\n",
       "0             10000  0  0  0    1000  0  0  0    9990  10  0  0\n",
       "1             10009  0  0  0     977  0  0  0   10004   9  1  0\n",
       "2             10006  0  0  0     962  0  0  0   10020  10  2  0\n",
       "3              9992  0  0  0     990  0  0  0   10006  10  2  0\n",
       "4              9998  0  0  0     998  0  0  0    9991  10  2  1"
      ]
     },
     "execution_count": 13,
     "metadata": {},
     "output_type": "execute_result"
    }
   ],
   "source": [
    "prev = model.getPrevalence()\n",
    "prev.head(5)"
   ]
  },
  {
   "cell_type": "code",
   "execution_count": 14,
   "id": "85e06da9-e3ad-4142-9b33-06bd673bcb97",
   "metadata": {},
   "outputs": [],
   "source": [
    "inc = model.getIncidence()"
   ]
  },
  {
   "cell_type": "code",
   "execution_count": 15,
   "id": "bce34e29-3d91-4e00-9167-9224f44b4dd8",
   "metadata": {},
   "outputs": [
    {
     "data": {
      "text/html": [
       "<div>\n",
       "<style scoped>\n",
       "    .dataframe tbody tr th:only-of-type {\n",
       "        vertical-align: middle;\n",
       "    }\n",
       "\n",
       "    .dataframe tbody tr th {\n",
       "        vertical-align: top;\n",
       "    }\n",
       "\n",
       "    .dataframe thead tr th {\n",
       "        text-align: left;\n",
       "    }\n",
       "</style>\n",
       "<table border=\"1\" class=\"dataframe\">\n",
       "  <thead>\n",
       "    <tr>\n",
       "      <th>patch</th>\n",
       "      <th colspan=\"4\" halign=\"left\">patch 1</th>\n",
       "    </tr>\n",
       "    <tr>\n",
       "      <th>compartment</th>\n",
       "      <th>S</th>\n",
       "      <th>E</th>\n",
       "      <th>I</th>\n",
       "      <th>R</th>\n",
       "    </tr>\n",
       "  </thead>\n",
       "  <tbody>\n",
       "    <tr>\n",
       "      <th>0</th>\n",
       "      <td>1000</td>\n",
       "      <td>0</td>\n",
       "      <td>0</td>\n",
       "      <td>0</td>\n",
       "    </tr>\n",
       "    <tr>\n",
       "      <th>1</th>\n",
       "      <td>977</td>\n",
       "      <td>0</td>\n",
       "      <td>0</td>\n",
       "      <td>0</td>\n",
       "    </tr>\n",
       "    <tr>\n",
       "      <th>2</th>\n",
       "      <td>962</td>\n",
       "      <td>0</td>\n",
       "      <td>0</td>\n",
       "      <td>0</td>\n",
       "    </tr>\n",
       "    <tr>\n",
       "      <th>3</th>\n",
       "      <td>990</td>\n",
       "      <td>0</td>\n",
       "      <td>0</td>\n",
       "      <td>0</td>\n",
       "    </tr>\n",
       "    <tr>\n",
       "      <th>4</th>\n",
       "      <td>998</td>\n",
       "      <td>0</td>\n",
       "      <td>0</td>\n",
       "      <td>0</td>\n",
       "    </tr>\n",
       "  </tbody>\n",
       "</table>\n",
       "</div>"
      ],
      "text/plain": [
       "patch       patch 1         \n",
       "compartment       S  E  I  R\n",
       "0              1000  0  0  0\n",
       "1               977  0  0  0\n",
       "2               962  0  0  0\n",
       "3               990  0  0  0\n",
       "4               998  0  0  0"
      ]
     },
     "execution_count": 15,
     "metadata": {},
     "output_type": "execute_result"
    }
   ],
   "source": [
    "# Access data of a single patch\n",
    "res = prev.loc[slice(None), ('patch 1', slice(None))]\n",
    "res.head()"
   ]
  },
  {
   "cell_type": "code",
   "execution_count": 16,
   "id": "23caa2f8-4933-4911-a897-058c6824fc2b",
   "metadata": {},
   "outputs": [
    {
     "data": {
      "text/html": [
       "<div>\n",
       "<style scoped>\n",
       "    .dataframe tbody tr th:only-of-type {\n",
       "        vertical-align: middle;\n",
       "    }\n",
       "\n",
       "    .dataframe tbody tr th {\n",
       "        vertical-align: top;\n",
       "    }\n",
       "\n",
       "    .dataframe thead tr th {\n",
       "        text-align: left;\n",
       "    }\n",
       "</style>\n",
       "<table border=\"1\" class=\"dataframe\">\n",
       "  <thead>\n",
       "    <tr>\n",
       "      <th>patch</th>\n",
       "      <th>patch 0</th>\n",
       "      <th>patch 1</th>\n",
       "      <th>patch 2</th>\n",
       "    </tr>\n",
       "    <tr>\n",
       "      <th>compartment</th>\n",
       "      <th>E</th>\n",
       "      <th>E</th>\n",
       "      <th>E</th>\n",
       "    </tr>\n",
       "  </thead>\n",
       "  <tbody>\n",
       "    <tr>\n",
       "      <th>0</th>\n",
       "      <td>0</td>\n",
       "      <td>0</td>\n",
       "      <td>10</td>\n",
       "    </tr>\n",
       "    <tr>\n",
       "      <th>1</th>\n",
       "      <td>0</td>\n",
       "      <td>0</td>\n",
       "      <td>9</td>\n",
       "    </tr>\n",
       "    <tr>\n",
       "      <th>2</th>\n",
       "      <td>0</td>\n",
       "      <td>0</td>\n",
       "      <td>10</td>\n",
       "    </tr>\n",
       "    <tr>\n",
       "      <th>3</th>\n",
       "      <td>0</td>\n",
       "      <td>0</td>\n",
       "      <td>10</td>\n",
       "    </tr>\n",
       "    <tr>\n",
       "      <th>4</th>\n",
       "      <td>0</td>\n",
       "      <td>0</td>\n",
       "      <td>10</td>\n",
       "    </tr>\n",
       "  </tbody>\n",
       "</table>\n",
       "</div>"
      ],
      "text/plain": [
       "patch       patch 0 patch 1 patch 2\n",
       "compartment       E       E       E\n",
       "0                 0       0      10\n",
       "1                 0       0       9\n",
       "2                 0       0      10\n",
       "3                 0       0      10\n",
       "4                 0       0      10"
      ]
     },
     "execution_count": 16,
     "metadata": {},
     "output_type": "execute_result"
    }
   ],
   "source": [
    "# Access data of a single compartment\n",
    "res = prev.loc[slice(None), (slice(None), 'E')]\n",
    "res.head()"
   ]
  },
  {
   "cell_type": "code",
   "execution_count": 17,
   "id": "63e6610a-91ab-4166-a121-a8b98eb7b0cf",
   "metadata": {},
   "outputs": [
    {
     "data": {
      "text/plain": [
       "0    10\n",
       "1     9\n",
       "2    10\n",
       "3    10\n",
       "4    10\n",
       "Name: (patch 2, E), dtype: int64"
      ]
     },
     "execution_count": 17,
     "metadata": {},
     "output_type": "execute_result"
    }
   ],
   "source": [
    "# Access data of a single compartment in a single patch\n",
    "res = prev.loc[slice(None), ('patch 2', 'E')]\n",
    "res.head()"
   ]
  },
  {
   "cell_type": "code",
   "execution_count": null,
   "id": "d3e3404d-39b4-45b6-836f-e37925f74825",
   "metadata": {},
   "outputs": [],
   "source": []
  },
  {
   "cell_type": "code",
   "execution_count": null,
   "id": "d8b01685-fa19-4bea-b1ab-4b866717857b",
   "metadata": {},
   "outputs": [],
   "source": []
  },
  {
   "cell_type": "code",
   "execution_count": null,
   "id": "db44634c-4e6d-4846-9e76-d75868b17051",
   "metadata": {},
   "outputs": [],
   "source": []
  },
  {
   "cell_type": "code",
   "execution_count": null,
   "id": "a44a04c4-cb7c-46d7-9453-8bd094ebffde",
   "metadata": {},
   "outputs": [],
   "source": []
  },
  {
   "cell_type": "markdown",
   "id": "c167e659-3e51-4dcd-b06e-9ae106b2fbe8",
   "metadata": {},
   "source": [
    "# 2) Syncronization "
   ]
  },
  {
   "cell_type": "markdown",
   "id": "e216a436-ea89-47f0-b0c7-a221ded4d500",
   "metadata": {},
   "source": [
    "![Metapop Setting 1](https://github.com/EPIcx-lab/ESPIDAM-2025---Networks-and-Contact-Patterns-in-Infectious-Disease-Models/raw/5e7ee287a6b643363acc8970bef854158f935802/figures/metapopSetting1.png)"
   ]
  },
  {
   "cell_type": "code",
   "execution_count": 18,
   "id": "1c72e97d-7a3a-4ec8-91fc-3cacfdc44f45",
   "metadata": {},
   "outputs": [],
   "source": [
    "# Define population dataset\n",
    "population = [1e7, 0.5e7, 1e7] \n",
    "namePatches = [f'patch {i}' for i in range(len(population))] \n",
    "populations = pd.DataFrame(zip(population, namePatches), columns=['pop', 'name'])  "
   ]
  },
  {
   "cell_type": "code",
   "execution_count": null,
   "id": "d8134947-e929-48b7-9d61-2a36362ece2d",
   "metadata": {},
   "outputs": [],
   "source": [
    "# Scenario 1\n",
    "travels = ...\n",
    "\n",
    "model = metapopSEIR(beta = 0.25,\n",
    "                    eps = 0.4,\n",
    "                    mu = 0.17,\n",
    "                    populations = populations,\n",
    "                    travels = travels,\n",
    "                    initE = 10,\n",
    "                    initPatch = 0,\n",
    "                    nSteps = 800)\n",
    "model.run()\n",
    "prev = model.getPrevalence()\n",
    "inc = model.getIncidence()\n"
   ]
  },
  {
   "cell_type": "code",
   "execution_count": null,
   "id": "4d15ae6e-70ab-43e7-8293-352031f5597f",
   "metadata": {},
   "outputs": [],
   "source": [
    "fig, ax = plt.subplots(figsize=(5, 2.7))\n",
    "for name,incidence in inc.loc[slice(None), (slice(None), 'I')].items():\n",
    "    ax.plot(incidence.index, incidence.values, label=name[0])\n",
    "\n",
    "ax.set_ylabel(\"new cases\")\n",
    "ax.set_xlabel(\"steps\")\n",
    "ax.legend()"
   ]
  },
  {
   "cell_type": "code",
   "execution_count": 20,
   "id": "1664afca-8ec0-4388-a6b0-cd2a88f4a254",
   "metadata": {},
   "outputs": [],
   "source": [
    "# Scenario 2\n",
    "..."
   ]
  },
  {
   "cell_type": "code",
   "execution_count": 22,
   "id": "698d3521-f2a6-4560-b6d1-4db93b7bb90e",
   "metadata": {},
   "outputs": [],
   "source": [
    "# Scenario 3\n",
    "..."
   ]
  },
  {
   "cell_type": "code",
   "execution_count": null,
   "id": "b86b52eb-5f1e-476d-9693-251465b24ff6",
   "metadata": {},
   "outputs": [],
   "source": []
  },
  {
   "cell_type": "markdown",
   "id": "3b287c96-2992-49ad-a36d-f3c36aff6dc0",
   "metadata": {},
   "source": [
    "# Run multiple experiment function"
   ]
  },
  {
   "cell_type": "code",
   "execution_count": 75,
   "id": "cb76d3d6-5c35-4a2a-8a1a-2519c9a5b124",
   "metadata": {},
   "outputs": [],
   "source": [
    "def getIncidenceMultipleRun(model, n=10):\n",
    "    '''\n",
    "    Run model n times and get the number new infections\n",
    "    '''\n",
    "    incs = list()\n",
    "    for i in range(n):\n",
    "        _model = deepcopy(model)\n",
    "        _model.rng = np.random.default_rng(np.random.randint(1e7))\n",
    "        inc = _model.run().getIncidence()\n",
    "        \n",
    "        inc.columns = pd.MultiIndex.from_product([[f'exp_{i}']] + inc.columns.levels)\n",
    "        incs.append(inc)\n",
    "        \n",
    "    return pd.concat(incs, axis=1)"
   ]
  },
  {
   "cell_type": "code",
   "execution_count": 76,
   "id": "a77677e3-ac48-4380-82a1-d1ec78a1fbd3",
   "metadata": {},
   "outputs": [],
   "source": [
    "# Define population dataset\n",
    "population = [1e7, 1e7, 1e7] \n",
    "namePatches = [f'patch {i}' for i in range(len(population))] \n",
    "populations = pd.DataFrame(zip(population, namePatches), columns=['pop', 'name'])  "
   ]
  },
  {
   "cell_type": "code",
   "execution_count": 77,
   "id": "9fc308ed-71e0-4779-9f47-f2d011fa584e",
   "metadata": {},
   "outputs": [],
   "source": [
    "travels = pd.DataFrame([[0,1,100],[0,2,100]], columns=['from', 'to', 'passengers']).set_index(['from','to'])\n",
    "\n",
    "model = metapopSEIR(beta = 0.25,\n",
    "                    eps = 0.4,\n",
    "                    mu = 0.17,\n",
    "                    populations = populations,\n",
    "                    travels = travels,\n",
    "                    initE = 10,\n",
    "                    initPatch = 0,\n",
    "                    nSteps = 600)\n",
    "\n",
    "inc = getIncidenceMultipleRun(model, n=10)"
   ]
  },
  {
   "cell_type": "code",
   "execution_count": null,
   "id": "ddc4a513-4154-4f1f-a649-a9dc20f88b56",
   "metadata": {},
   "outputs": [],
   "source": [
    "inc.head(5)"
   ]
  },
  {
   "cell_type": "code",
   "execution_count": null,
   "id": "722aa28c-912a-4e6d-8004-dad6c7fe0a79",
   "metadata": {
    "scrolled": true
   },
   "outputs": [],
   "source": [
    "fig, ax = plt.subplots(figsize=(5, 2.7))\n",
    "# From inc, select all the experiment for 'patch 0' and compartment I\n",
    "# Plot the results\n",
    "df = ...\n",
    "ax.plot(df.index, df.values, c='C0', alpha=0.7)\n",
    "\n",
    "#Repeat for 'patch 1' and 'patch 2'\n",
    "...\n",
    "ax.plot(df.index, df.values, c='C2', alpha=0.7);ax.set_ylabel(\"new cases\")"
   ]
  },
  {
   "cell_type": "code",
   "execution_count": null,
   "id": "be0c0fe3-e3e2-4cd9-b488-37df5e9e51ed",
   "metadata": {},
   "outputs": [],
   "source": []
  },
  {
   "cell_type": "code",
   "execution_count": null,
   "id": "c3f97a68-cfed-4ce8-91a0-070c141f6cd4",
   "metadata": {},
   "outputs": [],
   "source": []
  },
  {
   "cell_type": "code",
   "execution_count": null,
   "id": "2a9bee0b-261b-4a92-baac-91c4a68829d0",
   "metadata": {},
   "outputs": [],
   "source": []
  },
  {
   "cell_type": "code",
   "execution_count": null,
   "id": "997546ab-5a51-4b33-93a9-dd306c75094d",
   "metadata": {},
   "outputs": [],
   "source": []
  },
  {
   "cell_type": "code",
   "execution_count": null,
   "id": "fcdd87bd-dc1a-496c-8239-6720f6a683f0",
   "metadata": {},
   "outputs": [],
   "source": []
  },
  {
   "cell_type": "code",
   "execution_count": null,
   "id": "10910e10-0dd0-451b-bfdd-948c6105b0a3",
   "metadata": {},
   "outputs": [],
   "source": []
  },
  {
   "cell_type": "code",
   "execution_count": null,
   "id": "be24e848-664f-442d-9570-56bc6a521645",
   "metadata": {},
   "outputs": [],
   "source": []
  },
  {
   "cell_type": "markdown",
   "id": "b656aa3b-3618-4f8c-a33c-50b7a337c05c",
   "metadata": {},
   "source": [
    "# Travel restrictions"
   ]
  },
  {
   "cell_type": "markdown",
   "id": "d9e00e65-02b1-4142-a066-ddadaad39afd",
   "metadata": {},
   "source": [
    "![Metapop Setting 2](https://github.com/EPIcx-lab/ESPIDAM-2025---Networks-and-Contact-Patterns-in-Infectious-Disease-Models/raw/5e7ee287a6b643363acc8970bef854158f935802/figures/metapopSetting2.png)\n",
    "\n",
    "Experiment with various population sizes, travel flows, and network topologies!"
   ]
  },
  {
   "cell_type": "code",
   "execution_count": 35,
   "id": "21c55e78-05c9-4b52-b9d8-de1cbbe20923",
   "metadata": {},
   "outputs": [],
   "source": [
    "# Define population dataset\n",
    "population = [1e7, 1e7, 1e6] \n",
    "namePatches = [f'patch {i}' for i in range(len(population))] \n",
    "populations = pd.DataFrame(zip(population, namePatches), columns=['pop', 'name'])  "
   ]
  },
  {
   "cell_type": "code",
   "execution_count": 36,
   "id": "4434d0d9-81a1-4a8d-89b6-2771822d6853",
   "metadata": {},
   "outputs": [],
   "source": [
    "travels = pd.DataFrame([[0,1,100],[1,2,100]], columns=['from', 'to', 'passengers']).set_index(['from','to'])\n",
    "\n",
    "model = metapopSEIR(beta = 0.25,\n",
    "                    eps = 0.4,\n",
    "                    mu = 0.17,\n",
    "                    populations = populations,\n",
    "                    travels = travels,\n",
    "                    initE = 10,\n",
    "                    initPatch = 0,\n",
    "                    nSteps = 600)\n",
    "\n",
    "inc = getIncidenceMultipleRun(model, n=10)"
   ]
  },
  {
   "cell_type": "code",
   "execution_count": null,
   "id": "320fd938-3418-41d4-a331-816d30e5c71d",
   "metadata": {},
   "outputs": [],
   "source": [
    "# Run multiple experiment plot the result\n",
    "..."
   ]
  },
  {
   "cell_type": "code",
   "execution_count": null,
   "id": "ca8fae6f-c6cb-4542-adec-14d1940cae1b",
   "metadata": {},
   "outputs": [],
   "source": []
  },
  {
   "cell_type": "code",
   "execution_count": null,
   "id": "87a455d3-865d-417d-96fe-c2fbca54ce8d",
   "metadata": {},
   "outputs": [],
   "source": []
  },
  {
   "cell_type": "code",
   "execution_count": null,
   "id": "e71e7d5a-5856-4335-8529-d0ab89f16e8d",
   "metadata": {},
   "outputs": [],
   "source": []
  },
  {
   "cell_type": "code",
   "execution_count": null,
   "id": "1102cc6d-2dd8-4c1b-ad58-d92dc01f7226",
   "metadata": {},
   "outputs": [],
   "source": []
  },
  {
   "cell_type": "markdown",
   "id": "435fc5e7-6fd0-4210-948b-7bac142d672f",
   "metadata": {},
   "source": [
    "# 3) Real Case\n",
    "In this section, a real-case scenario using the US states as patches and the state-to-state mobility data from the first practical session.  \n",
    "We will simulate the disease spread from different source states and plot the cumulative incidence on a map at various time steps to visualize the spread."
   ]
  },
  {
   "cell_type": "markdown",
   "id": "6e18dd86-923f-4821-b55b-c4a483ff737e",
   "metadata": {},
   "source": [
    "## Load the datasets"
   ]
  },
  {
   "cell_type": "code",
   "execution_count": 30,
   "id": "762edadb-74f6-4247-a8e0-00bb28a1c252",
   "metadata": {},
   "outputs": [
    {
     "data": {
      "text/html": [
       "<div>\n",
       "<style scoped>\n",
       "    .dataframe tbody tr th:only-of-type {\n",
       "        vertical-align: middle;\n",
       "    }\n",
       "\n",
       "    .dataframe tbody tr th {\n",
       "        vertical-align: top;\n",
       "    }\n",
       "\n",
       "    .dataframe thead th {\n",
       "        text-align: right;\n",
       "    }\n",
       "</style>\n",
       "<table border=\"1\" class=\"dataframe\">\n",
       "  <thead>\n",
       "    <tr style=\"text-align: right;\">\n",
       "      <th></th>\n",
       "      <th>STATEFP</th>\n",
       "      <th>STATENS</th>\n",
       "      <th>AFFGEOID</th>\n",
       "      <th>STUSPS</th>\n",
       "      <th>NAME</th>\n",
       "      <th>LSAD</th>\n",
       "      <th>ALAND</th>\n",
       "      <th>AWATER</th>\n",
       "      <th>geometry</th>\n",
       "    </tr>\n",
       "    <tr>\n",
       "      <th>GEOID</th>\n",
       "      <th></th>\n",
       "      <th></th>\n",
       "      <th></th>\n",
       "      <th></th>\n",
       "      <th></th>\n",
       "      <th></th>\n",
       "      <th></th>\n",
       "      <th></th>\n",
       "      <th></th>\n",
       "    </tr>\n",
       "  </thead>\n",
       "  <tbody>\n",
       "    <tr>\n",
       "      <th>28</th>\n",
       "      <td>28</td>\n",
       "      <td>01779790</td>\n",
       "      <td>0400000US28</td>\n",
       "      <td>MS</td>\n",
       "      <td>Mississippi</td>\n",
       "      <td>00</td>\n",
       "      <td>121533519481</td>\n",
       "      <td>3926919758</td>\n",
       "      <td>MULTIPOLYGON (((719952.837 -785108.098, 721081...</td>\n",
       "    </tr>\n",
       "    <tr>\n",
       "      <th>37</th>\n",
       "      <td>37</td>\n",
       "      <td>01027616</td>\n",
       "      <td>0400000US37</td>\n",
       "      <td>NC</td>\n",
       "      <td>North Carolina</td>\n",
       "      <td>00</td>\n",
       "      <td>125923656064</td>\n",
       "      <td>13466071395</td>\n",
       "      <td>MULTIPOLYGON (((1799007.580 17387.012, 1799662...</td>\n",
       "    </tr>\n",
       "  </tbody>\n",
       "</table>\n",
       "</div>"
      ],
      "text/plain": [
       "      STATEFP   STATENS     AFFGEOID STUSPS            NAME LSAD  \\\n",
       "GEOID                                                              \n",
       "28         28  01779790  0400000US28     MS     Mississippi   00   \n",
       "37         37  01027616  0400000US37     NC  North Carolina   00   \n",
       "\n",
       "              ALAND       AWATER  \\\n",
       "GEOID                              \n",
       "28     121533519481   3926919758   \n",
       "37     125923656064  13466071395   \n",
       "\n",
       "                                                geometry  \n",
       "GEOID                                                     \n",
       "28     MULTIPOLYGON (((719952.837 -785108.098, 721081...  \n",
       "37     MULTIPOLYGON (((1799007.580 17387.012, 1799662...  "
      ]
     },
     "execution_count": 30,
     "metadata": {},
     "output_type": "execute_result"
    }
   ],
   "source": [
    "# Load the geojson file with county shapes\n",
    "# if on google colabs use: 'https://github.com/EPIcx-lab/ESPIDAM-2025---Networks-and-Contact-Patterns-in-Infectious-Disease-Models/raw/main/otherData/US-counties.geojson')\n",
    "\n",
    "geoData = gpd.read_file('./otherData/US-states.geojson')\n",
    "geoData = geoData.to_crs(\"ESRI:102003\")\n",
    "geoData = geoData.set_index('GEOID')\n",
    "\n",
    "# For visualizaiton pourpose remove Alaska, Hawaii and Puerto Rico.\n",
    "geoData = geoData.query('STATEFP not in [\"02\", \"15\", \"72\", \"78\", \"60\", \"66\", \"69\"]')\n",
    "geoData.head(2)"
   ]
  },
  {
   "cell_type": "code",
   "execution_count": 31,
   "id": "bb90cebd-a86f-4be9-95c5-110437e0752e",
   "metadata": {},
   "outputs": [
    {
     "data": {
      "text/html": [
       "<div>\n",
       "<style scoped>\n",
       "    .dataframe tbody tr th:only-of-type {\n",
       "        vertical-align: middle;\n",
       "    }\n",
       "\n",
       "    .dataframe tbody tr th {\n",
       "        vertical-align: top;\n",
       "    }\n",
       "\n",
       "    .dataframe thead th {\n",
       "        text-align: right;\n",
       "    }\n",
       "</style>\n",
       "<table border=\"1\" class=\"dataframe\">\n",
       "  <thead>\n",
       "    <tr style=\"text-align: right;\">\n",
       "      <th></th>\n",
       "      <th>name</th>\n",
       "      <th>pop</th>\n",
       "    </tr>\n",
       "  </thead>\n",
       "  <tbody>\n",
       "    <tr>\n",
       "      <th>0</th>\n",
       "      <td>01</td>\n",
       "      <td>4830620</td>\n",
       "    </tr>\n",
       "    <tr>\n",
       "      <th>1</th>\n",
       "      <td>02</td>\n",
       "      <td>733375</td>\n",
       "    </tr>\n",
       "  </tbody>\n",
       "</table>\n",
       "</div>"
      ],
      "text/plain": [
       "  name      pop\n",
       "0   01  4830620\n",
       "1   02   733375"
      ]
     },
     "execution_count": 31,
     "metadata": {},
     "output_type": "execute_result"
    }
   ],
   "source": [
    "# Load population of US states\n",
    "# if on google colabs use: 'https://github.com/EPIcx-lab/ESPIDAM-2025---Networks-and-Contact-Patterns-in-Infectious-Disease-Models/raw/main/otherData/US-pop-states.csv')\n",
    "\n",
    "popState = pd.read_csv(\"./otherData/US-pop-states.csv\")\n",
    "popState['state'] = popState['state'].astype(str)\n",
    "popState['state'] = popState['state'].apply(lambda a: a.zfill(2)) \n",
    "\n",
    "popState.columns = ['name','pop']\n",
    "popState.head(2)"
   ]
  },
  {
   "cell_type": "code",
   "execution_count": null,
   "id": "0ca0ca47-1a54-400c-8e2e-57ed0c91ee67",
   "metadata": {},
   "outputs": [],
   "source": []
  },
  {
   "cell_type": "code",
   "execution_count": 32,
   "id": "f2e1ce48-493f-4bc7-9fe9-4130c76b3a34",
   "metadata": {},
   "outputs": [
    {
     "data": {
      "text/html": [
       "<div>\n",
       "<style scoped>\n",
       "    .dataframe tbody tr th:only-of-type {\n",
       "        vertical-align: middle;\n",
       "    }\n",
       "\n",
       "    .dataframe tbody tr th {\n",
       "        vertical-align: top;\n",
       "    }\n",
       "\n",
       "    .dataframe thead th {\n",
       "        text-align: right;\n",
       "    }\n",
       "</style>\n",
       "<table border=\"1\" class=\"dataframe\">\n",
       "  <thead>\n",
       "    <tr style=\"text-align: right;\">\n",
       "      <th></th>\n",
       "      <th>state_o</th>\n",
       "      <th>state_d</th>\n",
       "      <th>pop_flows</th>\n",
       "    </tr>\n",
       "  </thead>\n",
       "  <tbody>\n",
       "    <tr>\n",
       "      <th>0</th>\n",
       "      <td>01</td>\n",
       "      <td>02</td>\n",
       "      <td>606.5</td>\n",
       "    </tr>\n",
       "    <tr>\n",
       "      <th>1</th>\n",
       "      <td>01</td>\n",
       "      <td>04</td>\n",
       "      <td>3623.1</td>\n",
       "    </tr>\n",
       "  </tbody>\n",
       "</table>\n",
       "</div>"
      ],
      "text/plain": [
       "  state_o state_d  pop_flows\n",
       "0      01      02      606.5\n",
       "1      01      04     3623.1"
      ]
     },
     "execution_count": 32,
     "metadata": {},
     "output_type": "execute_result"
    }
   ],
   "source": [
    "# Load states to state passenfer flow\n",
    "# if on google colabs use: 'https://github.com/EPIcx-lab/ESPIDAM-2025---Networks-and-Contact-Patterns-in-Infectious-Disease-Models/raw/main/mobilityflows/mobilityFlowStateAvg.csv'\n",
    "\n",
    "s2s = pd.read_csv('./mobilityflows/mobilityFlowStateAvg.csv')\n",
    "s2s[['state_o','state_d']] = s2s[['state_o','state_d']].astype(str)\n",
    "s2s[['state_o','state_d']] = s2s[['state_o','state_d']].map(lambda a: a.zfill(2)) \n",
    "\n",
    "# Take the average flow between each couple of states\n",
    "s2s[['state_o','state_d']] = s2s[['state_o','state_d']].apply(np.sort, axis=1, raw=True)\n",
    "s2s = s2s.groupby(['state_o','state_d'], as_index=False).mean()\n",
    "\n",
    "s2s.head(2)"
   ]
  },
  {
   "cell_type": "code",
   "execution_count": 33,
   "id": "9ca9a089-5861-4ee4-bee1-821623c8d359",
   "metadata": {},
   "outputs": [
    {
     "data": {
      "text/html": [
       "<div>\n",
       "<style scoped>\n",
       "    .dataframe tbody tr th:only-of-type {\n",
       "        vertical-align: middle;\n",
       "    }\n",
       "\n",
       "    .dataframe tbody tr th {\n",
       "        vertical-align: top;\n",
       "    }\n",
       "\n",
       "    .dataframe thead th {\n",
       "        text-align: right;\n",
       "    }\n",
       "</style>\n",
       "<table border=\"1\" class=\"dataframe\">\n",
       "  <thead>\n",
       "    <tr style=\"text-align: right;\">\n",
       "      <th></th>\n",
       "      <th></th>\n",
       "      <th>passengers</th>\n",
       "    </tr>\n",
       "    <tr>\n",
       "      <th>from</th>\n",
       "      <th>to</th>\n",
       "      <th></th>\n",
       "    </tr>\n",
       "  </thead>\n",
       "  <tbody>\n",
       "    <tr>\n",
       "      <th rowspan=\"2\" valign=\"top\">0</th>\n",
       "      <th>1</th>\n",
       "      <td>606.5</td>\n",
       "    </tr>\n",
       "    <tr>\n",
       "      <th>2</th>\n",
       "      <td>3623.1</td>\n",
       "    </tr>\n",
       "  </tbody>\n",
       "</table>\n",
       "</div>"
      ],
      "text/plain": [
       "         passengers\n",
       "from to            \n",
       "0    1        606.5\n",
       "     2       3623.1"
      ]
     },
     "execution_count": 33,
     "metadata": {},
     "output_type": "execute_result"
    }
   ],
   "source": [
    "# In the `Metapopulation` class, it's crucial that the travel DataFrame has the same index as the population dataset.\n",
    "# The following code ensures this consistency\n",
    "\n",
    "mapIndexState = popState['name'].to_dict()\n",
    "mapStateIndex = {v: k for k, v in mapIndexState.items()}\n",
    "\n",
    "s2s['state_o'] = s2s['state_o'].map(mapStateIndex)\n",
    "s2s['state_d'] = s2s['state_d'].map(mapStateIndex)\n",
    "\n",
    "s2s = s2s.set_index(['state_o','state_d'])\n",
    "s2s.index.names = ['from', 'to']\n",
    "s2s.columns = ['passengers']\n",
    "s2s.head(2)"
   ]
  },
  {
   "cell_type": "markdown",
   "id": "154d09db-abd7-4b4b-8cee-a6e73499218d",
   "metadata": {},
   "source": [
    "## Run the model"
   ]
  },
  {
   "cell_type": "code",
   "execution_count": 83,
   "id": "851b5ea0-01f2-44df-b41b-3483c2c7bfe4",
   "metadata": {},
   "outputs": [
    {
     "data": {
      "text/plain": [
       "<__main__.metapopSEIR at 0x15b887140>"
      ]
     },
     "execution_count": 83,
     "metadata": {},
     "output_type": "execute_result"
    }
   ],
   "source": [
    "# Select a source and run the model\n",
    "source = 3\n",
    "model = metapopSEIR(beta = 0.25,\n",
    "                    eps = 0.4,\n",
    "                    mu = 0.17,\n",
    "                    populations = popState,\n",
    "                    travels = s2s,\n",
    "                    initE = 5,\n",
    "                    initPatch = source,\n",
    "                    nSteps = 1200)\n",
    "model.run()"
   ]
  },
  {
   "cell_type": "code",
   "execution_count": 35,
   "id": "2cd8b720-0d0c-4ded-a768-dcfd0c9d8711",
   "metadata": {},
   "outputs": [
    {
     "data": {
      "text/plain": [
       "<Axes: >"
      ]
     },
     "execution_count": 35,
     "metadata": {},
     "output_type": "execute_result"
    },
    {
     "data": {
      "image/png": "[encoded data removed]",
      "text/plain": [
       "<Figure size 500x300 with 2 Axes>"
      ]
     },
     "metadata": {},
     "output_type": "display_data"
    }
   ],
   "source": [
    "# get for each patch the cumulative incidence at a certain timestep\n",
    "incidence = model.getIncidence().loc[:, (slice(None),'I')]\n",
    "incidence = incidence.droplevel('compartment', axis=1)\n",
    "\n",
    "# use cumsum to get the cumulative number of new cases\n",
    "#HINT: use df.cumsum()\n",
    "incidence = incidence.cumsum()\n",
    "\n",
    "# select a timestep\n",
    "timePlot = 70\n",
    "incidence = incidence.loc[timePlot]\n",
    "\n",
    "# divide by population\n",
    "incidence = incidence/popState.set_index('name')['pop'] * 100\n",
    "incidence.name = 'incidence' #give a name to the pd.Series so that we cna merge it \n",
    "\n",
    "# Merge geoData\n",
    "geoDataWithInc = geoData.merge(incidence, left_index=True, right_index=True, how='left')\n",
    "\n",
    "fig, ax = plt.subplots(figsize=(5, 3), ncols=1, layout='constrained')\n",
    "ax.axis('off')\n",
    "\n",
    "geoDataWithInc.plot(facecolor='None', linewidth=.3, ax=ax);\n",
    "geoDataWithInc.plot(column='incidence', cmap='Reds', ax=ax, legend=True, legend_kwds= {'label': \"Cumulative incidence %\"})\n",
    "\n",
    "sourceCode = popState.loc[source, 'name']\n",
    "geoDataWithInc.loc[[sourceCode]].plot(facecolor='None', ax=ax, hatch='////', edgecolor='white')"
   ]
  },
  {
   "cell_type": "markdown",
   "id": "b46d65d9-c367-4428-a177-eed14ddb06cb",
   "metadata": {},
   "source": [
    "## Travel restricitons and the global invasion threshold\n",
    "Find the travel restriction necessary so that the system remains below the global invasion threshold.\n",
    "- What should happen below the global invasion threshold?\n",
    "- Does it depend on R? Why?\n",
    "- Does it depend on ε and μ? Why?"
   ]
  },
  {
   "cell_type": "code",
   "execution_count": 52,
   "id": "5b20aead-60c5-4b80-9a2a-50b074d2c87f",
   "metadata": {},
   "outputs": [
    {
     "data": {
      "text/plain": [
       "<__main__.metapopSEIR at 0x168d36780>"
      ]
     },
     "execution_count": 52,
     "metadata": {},
     "output_type": "execute_result"
    }
   ],
   "source": [
    "# Select a source and run the model\n",
    "source = 3\n",
    "model = metapopSEIR(beta = 0.2,\n",
    "                    eps = 0.4,\n",
    "                    mu = 0.17,\n",
    "                    populations = popState,\n",
    "                    travels = s2s * 0.00001,\n",
    "                    initE = 5,\n",
    "                    initPatch = source,\n",
    "                    nSteps = 1200)\n",
    "model.run()"
   ]
  },
  {
   "cell_type": "code",
   "execution_count": 53,
   "id": "5996123a-03ec-459f-a757-7be4110d3147",
   "metadata": {},
   "outputs": [
    {
     "data": {
      "text/plain": [
       "<Axes: >"
      ]
     },
     "execution_count": 53,
     "metadata": {},
     "output_type": "execute_result"
    },
    {
     "data": {
      "image/png": "[encoded data removed]",
      "text/plain": [
       "<Figure size 500x300 with 2 Axes>"
      ]
     },
     "metadata": {},
     "output_type": "display_data"
    }
   ],
   "source": [
    "# get for each patch the cumulative incidence at a certain timestep\n",
    "incidence = model.getIncidence().loc[:, (slice(None),'I')]\n",
    "incidence = incidence.droplevel('compartment', axis=1)\n",
    "\n",
    "# use cumsum to get the cumulative number of new cases\n",
    "incidence = incidence.cumsum()\n",
    "\n",
    "# select a timestep\n",
    "timePlot = 1000\n",
    "incidence = incidence.loc[timePlot]\n",
    "\n",
    "# divide by population\n",
    "incidence = incidence/popState.set_index('name')['pop'] * 100\n",
    "incidence.name = 'incidence' #give a name to the pd.Series so that we cna merge it \n",
    "\n",
    "# Merge geoData\n",
    "geoDataWithInc = geoData.merge(incidence, left_index=True, right_index=True, how='left')\n",
    "\n",
    "fig, ax = plt.subplots(figsize=(5, 3), ncols=1, layout='constrained')\n",
    "ax.axis('off')\n",
    "\n",
    "geoDataWithInc.plot(facecolor='None', linewidth=.3, ax=ax);\n",
    "geoDataWithInc.plot(column='incidence', cmap='Reds', ax=ax, legend=True, legend_kwds= {'label': \"Cumulative incidence %\"})\n",
    "\n",
    "sourceCode = popState.loc[source, 'name']\n",
    "geoDataWithInc.loc[[sourceCode]].plot(facecolor='None', ax=ax, hatch='////', edgecolor='white')"
   ]
  },
  {
   "cell_type": "markdown",
   "id": "9bc3e431-4a10-43da-9721-c86c47208e22",
   "metadata": {},
   "source": [
    "## Travel restricitons and the delay in arrival time\n",
    "How many days we can delay the disease arrival time by reducing by 50%, 90% and 99% of the travel"
   ]
  },
  {
   "cell_type": "code",
   "execution_count": 67,
   "id": "4dcc79c8-4a06-44fb-b291-6588d5f66314",
   "metadata": {},
   "outputs": [],
   "source": [
    "# Create a run the model with the normal travel \n",
    "source = 3\n",
    "modelNormal = metapopSEIR(beta = 0.25,\n",
    "                    eps = 0.4,\n",
    "                    mu = 0.17,\n",
    "                    populations = popState,\n",
    "                    travels = s2s,\n",
    "                    initE = 50,\n",
    "                    initPatch = source,\n",
    "                    nSteps = 1200)\n",
    "modelNormal.run();"
   ]
  },
  {
   "cell_type": "code",
   "execution_count": 68,
   "id": "facf1dbf-7950-417c-ae31-93a852a7b634",
   "metadata": {},
   "outputs": [],
   "source": [
    "# Create a run the model with the normal travel restrictions\n",
    "source = 3\n",
    "modelTR = metapopSEIR(beta = 0.25,\n",
    "                    eps = 0.4,\n",
    "                    mu = 0.17,\n",
    "                    populations = popState,\n",
    "                    travels = s2s*0.1,\n",
    "                    initE = 50,\n",
    "                    initPatch = source,\n",
    "                    nSteps = 1200)\n",
    "modelTR.run();"
   ]
  },
  {
   "cell_type": "code",
   "execution_count": 70,
   "id": "e64b0f2c-c833-446b-a683-7a96f1fdcc99",
   "metadata": {},
   "outputs": [
    {
     "data": {
      "text/plain": [
       "8.0"
      ]
     },
     "execution_count": 70,
     "metadata": {},
     "output_type": "execute_result"
    }
   ],
   "source": [
    "# Get the prevalence from both models, focusing on the 'I' compartment\n",
    "incidenceNormal = modelNormal.getPrevalence().loc[:, (slice(None),'I')]\n",
    "incidenceTR = modelTR.getPrevalence().loc[:, (slice(None),'I')]\n",
    "\n",
    "# For each state, get the step at which the prevalence surpass 100 cases\n",
    "# HINT: use `df > value` to get a DataFrame of boolean values (True where incidence > value)\n",
    "# HINT: df.idxmax() returns, for each column, the index of the first True (i.e., when value > 100)\n",
    "# HINT: if multiple maximum values exist, idxmax() returns the first occurrence\n",
    "reach100Normal = (incidenceNormal > 100).idxmax()\n",
    "reach100TR = (incidenceTR > 100).idxmax()\n",
    "\n",
    "# Comput the median of the difference in timing across regions\n",
    "(reach100TR - reach100Normal).median()"
   ]
  },
  {
   "cell_type": "code",
   "execution_count": null,
   "id": "9768b780-6b76-449a-92eb-ae2c08a44e8b",
   "metadata": {},
   "outputs": [],
   "source": []
  },
  {
   "cell_type": "code",
   "execution_count": null,
   "id": "3c7edd03-3250-4d74-8306-6d97099deef4",
   "metadata": {},
   "outputs": [],
   "source": []
  },
  {
   "cell_type": "code",
   "execution_count": null,
   "id": "25fd42d0-2fde-4df2-8ef6-5c0343ce5eda",
   "metadata": {},
   "outputs": [],
   "source": []
  },
  {
   "cell_type": "code",
   "execution_count": null,
   "id": "38f0673d-d6b7-4aec-ba48-a47eab19711f",
   "metadata": {},
   "outputs": [],
   "source": []
  },
  {
   "cell_type": "code",
   "execution_count": null,
   "id": "6355ec47-1f68-4321-9603-6fa557c95977",
   "metadata": {},
   "outputs": [],
   "source": []
  },
  {
   "attachments": {},
   "cell_type": "markdown",
   "id": "57cf6231-d9c6-4b4e-82bf-64f1658506f4",
   "metadata": {},
   "source": [
    "# 4) Hub-Peripheral Source Dynamics \n",
    "\n",
    "In metapopulation models, large patches typically infect other large patches due to higher travels volumes and dense connectivity between them, facilitating faster disease spread among these hubs. Conversely, small patches tend to infect large patches first because of essential travels links, despite lower overall connectivity. This results in an asymmetric infection dynamic where large patches are primarily responsible for propagating the disease among themselves, while small patches contribute to initial outbreaks in larger patches due to directional travels bias. \n",
    "\n",
    "Show that this is the case by doing the following steps:\n",
    "1) Creating a population dataset with different dimension\n",
    "2) Use a gravity model for estimate the number of passenger between two patches (assume that the distance costant between all the patches)\n",
    "3) Run the metapopulation model using different sources\n",
    "4) Plot the cumulate incidence and observe the delay in the outbreak across different patches\n",
    "\n",
    "Suggenstion: use the gravity model we fitted in the last practical lesson:\n",
    "$$T_{ij} = K \\frac{P_i^{a} P_j^{b}}{D_{ij}^{c}}$$\n",
    " \n",
    "$K = 4 \\times 10^{-5}$  \n",
    "$a = b = 0.85$  \n",
    "$c = 1.1$  "
   ]
  },
  {
   "cell_type": "code",
   "execution_count": 565,
   "id": "053f4edd-a8d3-4e3d-8ad8-34eea7107605",
   "metadata": {},
   "outputs": [
    {
     "data": {
      "text/html": [
       "<div>\n",
       "<style scoped>\n",
       "    .dataframe tbody tr th:only-of-type {\n",
       "        vertical-align: middle;\n",
       "    }\n",
       "\n",
       "    .dataframe tbody tr th {\n",
       "        vertical-align: top;\n",
       "    }\n",
       "\n",
       "    .dataframe thead th {\n",
       "        text-align: right;\n",
       "    }\n",
       "</style>\n",
       "<table border=\"1\" class=\"dataframe\">\n",
       "  <thead>\n",
       "    <tr style=\"text-align: right;\">\n",
       "      <th></th>\n",
       "      <th>pop</th>\n",
       "      <th>name</th>\n",
       "    </tr>\n",
       "  </thead>\n",
       "  <tbody>\n",
       "    <tr>\n",
       "      <th>0</th>\n",
       "      <td>10000000.0</td>\n",
       "      <td>large patch 1</td>\n",
       "    </tr>\n",
       "    <tr>\n",
       "      <th>1</th>\n",
       "      <td>10000000.0</td>\n",
       "      <td>large patch 2</td>\n",
       "    </tr>\n",
       "    <tr>\n",
       "      <th>2</th>\n",
       "      <td>10000000.0</td>\n",
       "      <td>large patch 3</td>\n",
       "    </tr>\n",
       "    <tr>\n",
       "      <th>3</th>\n",
       "      <td>1000000.0</td>\n",
       "      <td>medium patch 1</td>\n",
       "    </tr>\n",
       "    <tr>\n",
       "      <th>4</th>\n",
       "      <td>1000000.0</td>\n",
       "      <td>medium patch 2</td>\n",
       "    </tr>\n",
       "    <tr>\n",
       "      <th>5</th>\n",
       "      <td>100000.0</td>\n",
       "      <td>medium/small patch</td>\n",
       "    </tr>\n",
       "    <tr>\n",
       "      <th>6</th>\n",
       "      <td>10000.0</td>\n",
       "      <td>small patch 1</td>\n",
       "    </tr>\n",
       "    <tr>\n",
       "      <th>7</th>\n",
       "      <td>10000.0</td>\n",
       "      <td>small patch 2</td>\n",
       "    </tr>\n",
       "  </tbody>\n",
       "</table>\n",
       "</div>"
      ],
      "text/plain": [
       "          pop                name\n",
       "0  10000000.0       large patch 1\n",
       "1  10000000.0       large patch 2\n",
       "2  10000000.0       large patch 3\n",
       "3   1000000.0      medium patch 1\n",
       "4   1000000.0      medium patch 2\n",
       "5    100000.0  medium/small patch\n",
       "6     10000.0       small patch 1\n",
       "7     10000.0       small patch 2"
      ]
     },
     "execution_count": 565,
     "metadata": {},
     "output_type": "execute_result"
    }
   ],
   "source": [
    "# Define population dataset\n",
    "# Create patches with big/medium/small population\n",
    "...\n",
    "population = [1e7,1e7,1e7,1e6,1e6,1e5,1e4,1e4]\n",
    "namePatches = ['large patch 1', 'large patch 2', 'large patch 3', 'medium patch 1', 'medium patch 2', 'medium/small patch', 'small patch 1', 'small patch 2']\n",
    "populations = pd.DataFrame(zip(population, namePatches), columns=['pop', 'name'])  \n",
    "populations"
   ]
  },
  {
   "cell_type": "code",
   "execution_count": 566,
   "id": "288e5ffb-3025-42b0-8c87-be893d0677b6",
   "metadata": {},
   "outputs": [
    {
     "data": {
      "text/html": [
       "<div>\n",
       "<style scoped>\n",
       "    .dataframe tbody tr th:only-of-type {\n",
       "        vertical-align: middle;\n",
       "    }\n",
       "\n",
       "    .dataframe tbody tr th {\n",
       "        vertical-align: top;\n",
       "    }\n",
       "\n",
       "    .dataframe thead th {\n",
       "        text-align: right;\n",
       "    }\n",
       "</style>\n",
       "<table border=\"1\" class=\"dataframe\">\n",
       "  <thead>\n",
       "    <tr style=\"text-align: right;\">\n",
       "      <th></th>\n",
       "      <th></th>\n",
       "      <th>pop_from</th>\n",
       "      <th>pop_to</th>\n",
       "    </tr>\n",
       "    <tr>\n",
       "      <th>from</th>\n",
       "      <th>to</th>\n",
       "      <th></th>\n",
       "      <th></th>\n",
       "    </tr>\n",
       "  </thead>\n",
       "  <tbody>\n",
       "    <tr>\n",
       "      <th rowspan=\"2\" valign=\"top\">0</th>\n",
       "      <th>1</th>\n",
       "      <td>10000000.0</td>\n",
       "      <td>10000000.0</td>\n",
       "    </tr>\n",
       "    <tr>\n",
       "      <th>2</th>\n",
       "      <td>10000000.0</td>\n",
       "      <td>10000000.0</td>\n",
       "    </tr>\n",
       "  </tbody>\n",
       "</table>\n",
       "</div>"
      ],
      "text/plain": [
       "           pop_from      pop_to\n",
       "from to                        \n",
       "0    1   10000000.0  10000000.0\n",
       "     2   10000000.0  10000000.0"
      ]
     },
     "execution_count": 566,
     "metadata": {},
     "output_type": "execute_result"
    }
   ],
   "source": [
    "# Define travel dataset from the gravity model\n",
    "# Step 1: create a dataset that contian the population for each combination of patches\n",
    "travels = pd.DataFrame(list(combinations(populations.index, 2)), columns=['from', 'to'])\n",
    "travels = travels.merge(populations[['pop']].add_suffix('_from'), left_on='from', right_index=True)\n",
    "travels = travels.merge(populations[['pop']].add_suffix('_to'), left_on='to', right_index=True)\n",
    "travels = travels.set_index(['from', 'to'])\n",
    "travels.head(2)"
   ]
  },
  {
   "cell_type": "code",
   "execution_count": 567,
   "id": "c35fd332-c1d5-415c-840d-0504cdf25e9e",
   "metadata": {},
   "outputs": [
    {
     "data": {
      "text/html": [
       "<div>\n",
       "<style scoped>\n",
       "    .dataframe tbody tr th:only-of-type {\n",
       "        vertical-align: middle;\n",
       "    }\n",
       "\n",
       "    .dataframe tbody tr th {\n",
       "        vertical-align: top;\n",
       "    }\n",
       "\n",
       "    .dataframe thead th {\n",
       "        text-align: right;\n",
       "    }\n",
       "</style>\n",
       "<table border=\"1\" class=\"dataframe\">\n",
       "  <thead>\n",
       "    <tr style=\"text-align: right;\">\n",
       "      <th></th>\n",
       "      <th></th>\n",
       "      <th>pop_from</th>\n",
       "      <th>pop_to</th>\n",
       "      <th>passengers</th>\n",
       "    </tr>\n",
       "    <tr>\n",
       "      <th>from</th>\n",
       "      <th>to</th>\n",
       "      <th></th>\n",
       "      <th></th>\n",
       "      <th></th>\n",
       "    </tr>\n",
       "  </thead>\n",
       "  <tbody>\n",
       "    <tr>\n",
       "      <th rowspan=\"2\" valign=\"top\">0</th>\n",
       "      <th>1</th>\n",
       "      <td>10000000.0</td>\n",
       "      <td>10000000.0</td>\n",
       "      <td>93524.844782</td>\n",
       "    </tr>\n",
       "    <tr>\n",
       "      <th>2</th>\n",
       "      <td>10000000.0</td>\n",
       "      <td>10000000.0</td>\n",
       "      <td>93524.844782</td>\n",
       "    </tr>\n",
       "  </tbody>\n",
       "</table>\n",
       "</div>"
      ],
      "text/plain": [
       "           pop_from      pop_to    passengers\n",
       "from to                                      \n",
       "0    1   10000000.0  10000000.0  93524.844782\n",
       "     2   10000000.0  10000000.0  93524.844782"
      ]
     },
     "execution_count": 567,
     "metadata": {},
     "output_type": "execute_result"
    }
   ],
   "source": [
    "# Step 2: Add the 'passenger' column to the dataset, using the gravity model \n",
    "...\n",
    "K = 4e-5\n",
    "a = b = 0.85  \n",
    "c = -1.1  \n",
    "\n",
    "travels['passengers'] = K * (travels['pop_from'] ** a) * (travels['pop_to'] ** b) * (200 ** c)\n",
    "travels.head(2)"
   ]
  },
  {
   "cell_type": "markdown",
   "id": "3b4a0e19-956c-4f3b-a4d7-d1d97e5ed16a",
   "metadata": {},
   "source": [
    "## Hub Source\n",
    "\n",
    "- Introduce the disease in a patch with a large population.\n",
    "- Plot the cumulative incidence using a logarithmic scale.\n",
    "- Analyze the delay in outbreak onset across various patches."
   ]
  },
  {
   "cell_type": "code",
   "execution_count": 568,
   "id": "7f56d92a-5ec7-4333-9f15-f49f22ea1b12",
   "metadata": {},
   "outputs": [
    {
     "data": {
      "text/plain": [
       "<__main__.metapopSEIR at 0x33e0dd760>"
      ]
     },
     "execution_count": 568,
     "metadata": {},
     "output_type": "execute_result"
    }
   ],
   "source": [
    "# Define the model\n",
    "...\n",
    "model = metapopSEIR(beta = 0.2,\n",
    "                    eps = 0.1,\n",
    "                    mu = 0.1,\n",
    "                    populations = populations,\n",
    "                    travels = travels,\n",
    "                    initE = 10,\n",
    "                    initPatch = 0,\n",
    "                    nSteps = 600)\n",
    "model.run()"
   ]
  },
  {
   "cell_type": "code",
   "execution_count": 569,
   "id": "89e3ec28-eed3-4827-bd55-731d27feb640",
   "metadata": {},
   "outputs": [],
   "source": [
    "# Get incidence in compartment I and compute the cumulative sum (pandas function cumsum())\n",
    "...\n",
    "inc = model.getIncidence()\n",
    "\n",
    "inc = inc.loc[slice(None), (slice(None), 'I')]\n",
    "inc = inc.droplevel(1, axis=1)\n",
    "\n",
    "incCum = inc.cumsum(0)"
   ]
  },
  {
   "cell_type": "code",
   "execution_count": 570,
   "id": "4a8f96b5-0302-4767-90c9-695c886ecdca",
   "metadata": {},
   "outputs": [
    {
     "data": {
      "text/plain": [
       "Text(0.5, 0, 'step')"
      ]
     },
     "execution_count": 570,
     "metadata": {},
     "output_type": "execute_result"
    },
    {
     "data": {
      "image/png": "[encoded data removed]",
      "text/plain": [
       "<Figure size 500x500 with 1 Axes>"
      ]
     },
     "metadata": {},
     "output_type": "display_data"
    }
   ],
   "source": [
    "# Plot incCum \n",
    "fig, ax = plt.subplots(figsize=(5, 5))\n",
    "\n",
    "incCum.iloc[:].plot(ax=ax)\n",
    "\n",
    "plt.yscale('log')\n",
    "ax.set_ylabel(\"cumulative incidence\")\n",
    "ax.set_xlabel(\"step\")"
   ]
  },
  {
   "cell_type": "markdown",
   "id": "96e147cd-1eb9-4a5d-b769-7461d870dfa9",
   "metadata": {},
   "source": [
    "## Peripheral Source\n",
    "\n",
    "- Introduce the disease in a source patch with a small population.\n",
    "- Plot the cumulative incidence using a logarithmic scale.\n",
    "- Analyze the delay in outbreak onset across various patches.\n"
   ]
  },
  {
   "cell_type": "code",
   "execution_count": 571,
   "id": "e02f64a1-660e-4b7e-9088-d6d7aebd5868",
   "metadata": {},
   "outputs": [
    {
     "data": {
      "text/plain": [
       "<__main__.metapopSEIR at 0x33d763d40>"
      ]
     },
     "execution_count": 571,
     "metadata": {},
     "output_type": "execute_result"
    }
   ],
   "source": [
    "# Define the model\n",
    "...\n",
    "model = metapopSEIR(beta = 0.5,\n",
    "                    eps = 0.2,\n",
    "                    mu = 0.2,\n",
    "                    populations = populations,\n",
    "                    travels = travels,\n",
    "                    initE = 10,\n",
    "                    initPatch = 7,\n",
    "                    nSteps = 250)\n",
    "model.run()"
   ]
  },
  {
   "cell_type": "code",
   "execution_count": 572,
   "id": "4b042b35-bd2b-4544-815b-b76fee76a44f",
   "metadata": {},
   "outputs": [],
   "source": [
    "# Get incidence in compartment I and compute the cumulative sum (pandas function cumsum())\n",
    "...\n",
    "inc = model.getIncidence()\n",
    "\n",
    "inc = inc.loc[slice(None), (slice(None), 'I')]\n",
    "inc = inc.droplevel(1, axis=1)\n",
    "\n",
    "incCum = inc.cumsum(0)"
   ]
  },
  {
   "cell_type": "code",
   "execution_count": 573,
   "id": "1908b053-ccf9-461d-b1d2-4752eab5d82f",
   "metadata": {},
   "outputs": [
    {
     "data": {
      "text/plain": [
       "Text(0.5, 0, 'step')"
      ]
     },
     "execution_count": 573,
     "metadata": {},
     "output_type": "execute_result"
    },
    {
     "data": {
      "image/png": "[encoded data removed]",
      "text/plain": [
       "<Figure size 500x500 with 1 Axes>"
      ]
     },
     "metadata": {},
     "output_type": "display_data"
    }
   ],
   "source": [
    "# Plot incCum \n",
    "fig, ax = plt.subplots(figsize=(5, 5))\n",
    "\n",
    "incCum.plot(ax=ax)\n",
    "\n",
    "plt.yscale('log')\n",
    "ax.set_ylabel(\"cumulative incidence\")\n",
    "ax.set_xlabel(\"step\")"
   ]
  },
  {
   "cell_type": "code",
   "execution_count": null,
   "id": "4177c523-8f93-4d7b-a768-979f9e2bae33",
   "metadata": {},
   "outputs": [],
   "source": []
  },
  {
   "cell_type": "code",
   "execution_count": null,
   "id": "f10e34fb-97fb-4ecd-b64f-f3460250fccf",
   "metadata": {},
   "outputs": [],
   "source": []
  }
 ],
 "metadata": {
  "kernelspec": {
   "display_name": "Python 3 (ipykernel)",
   "language": "python",
   "name": "python3"
  },
  "language_info": {
   "codemirror_mode": {
    "name": "ipython",
    "version": 3
   },
   "file_extension": ".py",
   "mimetype": "text/x-python",
   "name": "python",
   "nbconvert_exporter": "python",
   "pygments_lexer": "ipython3",
   "version": "3.12.0"
  }
 },
 "nbformat": 4,
 "nbformat_minor": 5
}

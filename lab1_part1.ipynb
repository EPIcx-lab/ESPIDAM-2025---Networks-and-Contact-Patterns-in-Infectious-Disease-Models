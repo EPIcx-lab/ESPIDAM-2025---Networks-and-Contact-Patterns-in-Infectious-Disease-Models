{
 "cells": [
  {
   "cell_type": "markdown",
   "id": "387c5c7d-4d0c-4a59-ad0f-2444d36b42c4",
   "metadata": {},
   "source": [
    "# About this practical session\n",
    "In this practical session, we will analyze U.S. mobility data from *Kang, Yuhao, et al. \"Multiscale dynamic human mobility flow dataset in the US during the COVID-19 epidemic.\" Scientific Data 7.1 (2020): 390*.\n",
    "\n",
    "**Goal**: Start with high-resolution human mobility data to extract and visualize the properties of the resulting mobility network\n",
    "\n",
    "Outline:\n",
    "- Data inspection, formatting, aggregation, and basic statistics\n",
    "- Compute the degree distribution of the mobility network\n",
    "- Create a choropleth map\n",
    "- Analyze mobility changes during COVID-19 and compare long and short travels\n",
    "- Fit a gravity model\n",
    "- Graph representation of the mobility network \n",
    "\n",
    "## Data details \n",
    "The raw GPS pings were preprocessed to extract flows between locations through the following steps:\n",
    "\n",
    "- Noise Removal\n",
    "- Clustering GPS pings\n",
    "- Home Location Estimation (Each user's home location is determined based on the most common nighttime location over a six-week period. This is done by clustering GPS pings that occur during nighttime hours (6 PM - 7 AM))\n",
    "- POIs (Points of Interest) Estimation (Points of Interest (POIs) are tracked using clustering methods that associate each cluster of pings with a POI or a geographic location)\n",
    "- Visits from home place to various POIs and CBGs are identified\n",
    "- Population Flow Estimation: Since the mobile phone data only covers about 10% of the population, the study uses demographic data to infer population-level flows. This involves scaling the observed mobile phone data to represent the entire population.\n",
    "\n",
    "We are going to use the daily Origin-Destination (OD) Matrix that contains the flow between each pair of Census Block Groups (CBG). In other words, this metric estimates the number of individuals who travel from an origin CBG to a destination CBG each day.\n",
    "\n",
    "We will work with the daily Origin-Destination (OD) matrix, which estimates the number of individuals traveling each day from one Census Block Groups (CBG) to another.\n",
    "\n",
    "&nbsp;<br><br><br><br>"
   ]
  },
  {
   "cell_type": "markdown",
   "id": "0678af48-f6a1-4b87-9f63-2cd705f62dfa",
   "metadata": {},
   "source": [
    "---\n",
    "# A primer of pandas DataFrame\n",
    "A pandas DataFrame `df` is a two-dimensional, labeled data structure with rows and columns\n",
    "\n",
    "|           | name    | age | city     |\n",
    "| --------- | ------- | --- | -------- |\n",
    "| **index** |         |     |          |\n",
    "| 0         | Alice   | 25  | New York |\n",
    "| 1         | Bob     | 30  | London   |\n",
    "| 2         | Charlie | 22  | Paris    |\n",
    "\n",
    "\n",
    "### Inspect\n",
    "- `len(df)` — get the rows counts\n",
    "- `df.head()` — show the first rows in the table \n",
    "### Select\n",
    "- `df.columns` — get the list of columns (*ex. name, age, city*)\n",
    "- `df.index` — get the list of index (*ex. 0,1,2,...)\n",
    "- `df['col']` — select a single column by column name\n",
    "- `df[['col1', 'col2']]` — select multiple columns  \n",
    "- `df.loc[row_label]` — select row by index label  \n",
    "- `df.iloc[row_number]` — select row by position  \n",
    "### Apply Function to Column\n",
    "- `df['col'].apply(lambda x: x * 2)` — apply a function to each value in a column  \n",
    "- `df['col'].mean()` — average of a column — similarly `.min()`,  `max()` \n",
    "- `df['col'].sum()` — total  of a column\n",
    "- `df['col'].describe()` — summary stats\n",
    "### Assign  \n",
    "- `df['new_col'] = df['col'] * 2` — create a new column based on existing data\n",
    "- `df['new_col'] = 5` — create a new column with a constant value\n",
    "### Group by  \n",
    "The groupby() function splits the data into groups based on a column’s values, allowing you to apply aggregate functions like sum() or mean() to each group.\n",
    "- `df.groupby(['col_name1', 'col_name2', ...])[['value_col', ...]].sum()` — total per group  \n",
    "- `df.groupby(['col_name1', 'col_name2', ...])[['value_col', ...]].mean()` — average per group\n",
    "- other aggregating functions: `.nunique()`, `.count()`\n",
    "### Filter\n",
    "- `df.loc[df['col'] == value]` — select rows where a column equals a value\n",
    "- `df.loc[(df['col1'] > x) & (df['col2'] < y)]` — multiple conditions (use `&`, `|`)  \n",
    "or use query:\n",
    "- `df.query(\"col == value\")` — use string-based expressions\n",
    "- `df.query(\"col in [1,2]\")` — select rows where values of column are in a set  \n",
    "- `df.query(\"col1 > x and col2 < y\")` — multiple conditions with readable synta\n",
    "- `df.query(\"col1 == col2\")` — columns comparison (get all the rows where the values of col1 is equal to col2)\n",
    "- `df.query(\"col == @variable_name\")` — use @ to reference local Python variables in the expression\n",
    "\n",
    "---\n",
    "&nbsp;<br><br><br><br><br><br><br><br><br>"
   ]
  },
  {
   "cell_type": "markdown",
   "id": "d88b5e85-991e-4cbe-aad2-23326fdafe1a",
   "metadata": {},
   "source": [
    "# Import libraries"
   ]
  },
  {
   "cell_type": "code",
   "execution_count": 8,
   "id": "c7b68006-a859-40a3-b8cc-2b0a23d63bd8",
   "metadata": {},
   "outputs": [],
   "source": [
    "import pandas as pd\n",
    "import numpy as np\n",
    "\n",
    "from matplotlib import pyplot as plt\n",
    "import matplotlib as mpl\n",
    "import matplotlib.dates as mdates\n",
    "\n",
    "import os\n",
    "import geopandas as gpd\n",
    "import statsmodels.api as sm"
   ]
  },
  {
   "cell_type": "code",
   "execution_count": 9,
   "id": "bba2c482-ed93-4077-864c-91b9b28761ad",
   "metadata": {
    "scrolled": true
   },
   "outputs": [],
   "source": [
    "# If you encounter an ImportError, install the packages using the following command:\n",
    "# !pip install geopandas"
   ]
  },
  {
   "cell_type": "code",
   "execution_count": 10,
   "id": "5f35302d-c416-4f06-b0da-4641022583a4",
   "metadata": {},
   "outputs": [],
   "source": [
    "# Function to format dates on plots\n",
    "def dateFormat(ax):\n",
    "    locator = mdates.AutoDateLocator(minticks=5, maxticks=10)\n",
    "    formatter = mdates.ConciseDateFormatter(locator, show_offset=False)\n",
    "    ax.xaxis.set_major_locator(locator)\n",
    "    ax.xaxis.set_major_formatter(formatter)"
   ]
  },
  {
   "cell_type": "code",
   "execution_count": null,
   "id": "d15edfa8-40f1-4fdc-9401-6306e0a3bb6f",
   "metadata": {},
   "outputs": [],
   "source": []
  },
  {
   "cell_type": "markdown",
   "id": "1442bb4b-cc7b-4ff7-9876-9c115781bad7",
   "metadata": {},
   "source": [
    "# Inspect a sample of the data"
   ]
  },
  {
   "cell_type": "code",
   "execution_count": 11,
   "id": "2999b1f4-372a-417a-a592-b8bd94cfb59c",
   "metadata": {},
   "outputs": [],
   "source": [
    "# Load a sample of daily CBG-to-CBG visitor flows\n",
    "# If executing on Google Colab, change the path to: 'https://github.com/EPIcx-lab/ESPIDAM-2025---Networks-and-Contact-Patterns-in-Infectious-Disease-Models/raw/main/mobilityflows/sample_daily_ct2ct_2020_01_01.csv.xz'\n",
    "ct2ct = pd.read_csv('./mobilityflows/sample_daily_ct2ct_2020_01_01.csv.xz')"
   ]
  },
  {
   "cell_type": "code",
   "execution_count": 12,
   "id": "ba3657c3-0b93-4406-93b0-03629075bf96",
   "metadata": {},
   "outputs": [
    {
     "data": {
      "text/html": [
       "<div>\n",
       "<style scoped>\n",
       "    .dataframe tbody tr th:only-of-type {\n",
       "        vertical-align: middle;\n",
       "    }\n",
       "\n",
       "    .dataframe tbody tr th {\n",
       "        vertical-align: top;\n",
       "    }\n",
       "\n",
       "    .dataframe thead th {\n",
       "        text-align: right;\n",
       "    }\n",
       "</style>\n",
       "<table border=\"1\" class=\"dataframe\">\n",
       "  <thead>\n",
       "    <tr style=\"text-align: right;\">\n",
       "      <th></th>\n",
       "      <th>geoid_o</th>\n",
       "      <th>geoid_d</th>\n",
       "      <th>lng_o</th>\n",
       "      <th>lat_o</th>\n",
       "      <th>lng_d</th>\n",
       "      <th>lat_d</th>\n",
       "      <th>date</th>\n",
       "      <th>visitor_flows</th>\n",
       "      <th>pop_flows</th>\n",
       "    </tr>\n",
       "  </thead>\n",
       "  <tbody>\n",
       "    <tr>\n",
       "      <th>0</th>\n",
       "      <td>1001020100</td>\n",
       "      <td>1001020100</td>\n",
       "      <td>-86.490076</td>\n",
       "      <td>32.477185</td>\n",
       "      <td>-86.490076</td>\n",
       "      <td>32.477185</td>\n",
       "      <td>2020-01-01</td>\n",
       "      <td>166</td>\n",
       "      <td>1596.0</td>\n",
       "    </tr>\n",
       "    <tr>\n",
       "      <th>1</th>\n",
       "      <td>1001020100</td>\n",
       "      <td>1001020200</td>\n",
       "      <td>-86.490076</td>\n",
       "      <td>32.477185</td>\n",
       "      <td>-86.473375</td>\n",
       "      <td>32.474248</td>\n",
       "      <td>2020-01-01</td>\n",
       "      <td>8</td>\n",
       "      <td>76.0</td>\n",
       "    </tr>\n",
       "  </tbody>\n",
       "</table>\n",
       "</div>"
      ],
      "text/plain": [
       "      geoid_o     geoid_d      lng_o      lat_o      lng_d      lat_d  \\\n",
       "0  1001020100  1001020100 -86.490076  32.477185 -86.490076  32.477185   \n",
       "1  1001020100  1001020200 -86.490076  32.477185 -86.473375  32.474248   \n",
       "\n",
       "         date  visitor_flows  pop_flows  \n",
       "0  2020-01-01            166     1596.0  \n",
       "1  2020-01-01              8       76.0  "
      ]
     },
     "execution_count": 12,
     "metadata": {},
     "output_type": "execute_result"
    }
   ],
   "source": [
    "# Display the first two rows of the dataset\n",
    "ct2ct.head(2)"
   ]
  },
  {
   "cell_type": "markdown",
   "id": "d37245a5-b75b-4442-9d5b-d77ceab8d14b",
   "metadata": {},
   "source": [
    "## Get county and state from geoids\n",
    "U.S. Geographic identifiers, like `55025010702`, are constructed as:  \n",
    "- State FIPS Code: `55` (2 digits) → Wisconsin\n",
    "- County FIPS Code: `025` (next 3 digits) → Dane County\n",
    "- Tract Code: `010702` (remaining digits) → Census tract"
   ]
  },
  {
   "cell_type": "code",
   "execution_count": 13,
   "id": "598d790f-fe79-4863-ac08-7ed3a59bb7c8",
   "metadata": {},
   "outputs": [],
   "source": [
    "# Ensure origin and destination GEOIDs are strings\n",
    "ct2ct['geoid_o'] = ct2ct['geoid_o'].astype(str)\n",
    "ct2ct['geoid_d'] = ct2ct['geoid_d'].astype(str)\n",
    "\n",
    "# Pad GEOIDs with leading zeros to ensure they are 11 characters long\n",
    "ct2ct['geoid_o'] = ct2ct['geoid_o'].apply(lambda a: a.zfill(11))\n",
    "ct2ct['geoid_d'] = ct2ct['geoid_d'].apply(lambda a: a.zfill(11))"
   ]
  },
  {
   "cell_type": "code",
   "execution_count": 14,
   "id": "bcbd775e-a4e3-4b4c-9e3b-81d7b6fe149f",
   "metadata": {},
   "outputs": [
    {
     "data": {
      "text/html": [
       "<div>\n",
       "<style scoped>\n",
       "    .dataframe tbody tr th:only-of-type {\n",
       "        vertical-align: middle;\n",
       "    }\n",
       "\n",
       "    .dataframe tbody tr th {\n",
       "        vertical-align: top;\n",
       "    }\n",
       "\n",
       "    .dataframe thead th {\n",
       "        text-align: right;\n",
       "    }\n",
       "</style>\n",
       "<table border=\"1\" class=\"dataframe\">\n",
       "  <thead>\n",
       "    <tr style=\"text-align: right;\">\n",
       "      <th></th>\n",
       "      <th>geoid_o</th>\n",
       "      <th>geoid_d</th>\n",
       "      <th>lng_o</th>\n",
       "      <th>lat_o</th>\n",
       "      <th>lng_d</th>\n",
       "      <th>lat_d</th>\n",
       "      <th>date</th>\n",
       "      <th>visitor_flows</th>\n",
       "      <th>pop_flows</th>\n",
       "    </tr>\n",
       "  </thead>\n",
       "  <tbody>\n",
       "    <tr>\n",
       "      <th>0</th>\n",
       "      <td>01001020100</td>\n",
       "      <td>01001020100</td>\n",
       "      <td>-86.490076</td>\n",
       "      <td>32.477185</td>\n",
       "      <td>-86.490076</td>\n",
       "      <td>32.477185</td>\n",
       "      <td>2020-01-01</td>\n",
       "      <td>166</td>\n",
       "      <td>1596.0</td>\n",
       "    </tr>\n",
       "    <tr>\n",
       "      <th>1</th>\n",
       "      <td>01001020100</td>\n",
       "      <td>01001020200</td>\n",
       "      <td>-86.490076</td>\n",
       "      <td>32.477185</td>\n",
       "      <td>-86.473375</td>\n",
       "      <td>32.474248</td>\n",
       "      <td>2020-01-01</td>\n",
       "      <td>8</td>\n",
       "      <td>76.0</td>\n",
       "    </tr>\n",
       "  </tbody>\n",
       "</table>\n",
       "</div>"
      ],
      "text/plain": [
       "       geoid_o      geoid_d      lng_o      lat_o      lng_d      lat_d  \\\n",
       "0  01001020100  01001020100 -86.490076  32.477185 -86.490076  32.477185   \n",
       "1  01001020100  01001020200 -86.490076  32.477185 -86.473375  32.474248   \n",
       "\n",
       "         date  visitor_flows  pop_flows  \n",
       "0  2020-01-01            166     1596.0  \n",
       "1  2020-01-01              8       76.0  "
      ]
     },
     "execution_count": 14,
     "metadata": {},
     "output_type": "execute_result"
    }
   ],
   "source": [
    "ct2ct.head(2)"
   ]
  },
  {
   "cell_type": "code",
   "execution_count": null,
   "id": "411ebadc-29cb-4e5f-b4a2-fb86452058cd",
   "metadata": {},
   "outputs": [],
   "source": [
    "# Extract the first 2 characters to represent the state code\n",
    "# Hint: strings can be sliced like arrays, e.g., a[0:2]; use ct2ct.apply(lambda a: ...) and assign the result to a new column\n",
    "ct2ct['state_o'] = ...\n",
    "\n",
    "# Extract the first 5 characters to represent the county code\n",
    "..."
   ]
  },
  {
   "cell_type": "markdown",
   "id": "6a0b4fd4-1cbe-4491-bcb1-8de371b8a02a",
   "metadata": {},
   "source": [
    "## Aggreagte the flow at state and county level\n",
    "Group all entries with the same combination of `county_o` and `county_d` and sum `pop_flows`"
   ]
  },
  {
   "cell_type": "code",
   "execution_count": null,
   "id": "ee98721b-c3ee-4024-bc39-2d1b37ba18f9",
   "metadata": {},
   "outputs": [],
   "source": [
    "# Hint: use df.groupby to aggregate flows between counties and states\n",
    "c2c = ... \n",
    "s2s = ..."
   ]
  },
  {
   "cell_type": "markdown",
   "id": "dd0bebf4-27af-40ec-8ab9-c18a4459c9ca",
   "metadata": {},
   "source": [
    "## Read pre-aggregated data\n",
    "Due to time constraints and the large size of the data, we directly read the results of the previous code"
   ]
  },
  {
   "cell_type": "code",
   "execution_count": null,
   "id": "1b2b95ce-b197-4d9a-9bf2-c08de42bd3ea",
   "metadata": {},
   "outputs": [],
   "source": [
    "# Read county to county csv file\n",
    "# If executing on Google Colab, change the path to:'https://github.com/EPIcx-lab/ESPIDAM-2025---Networks-and-Contact-Patterns-in-Infectious-Disease-Models/raw/main/mobilityflows/mobilityFlowsCounty.csv.xz')\n",
    " \n",
    "c2c = pd.read_csv('./mobilityflows/mobilityFlowsCounty.csv.xz')\n",
    "c2c['date'] = pd.to_datetime(c2c['date']) # transform column in datetime\n",
    "\n",
    "# Ensure 'county_o' and 'county_d' are strings and containing 5 characters (adding leading zeros if necessary)\n",
    "c2c['county_o'] = c2c['county_o'].astype(str)\n",
    "c2c['county_o'] = c2c['county_o'].apply(lambda a: a.zfill(5))\n",
    "\n",
    "c2c['county_d'] = c2c['county_d'].astype(str)\n",
    "c2c['county_d'] = c2c['county_d'].apply(lambda a: a.zfill(5))"
   ]
  },
  {
   "cell_type": "markdown",
   "id": "5af5af8e-53b1-4b5b-9f81-3ba94460ca04",
   "metadata": {},
   "source": [
    "&nbsp;<br><br><br><br><br><br><br><br><br>"
   ]
  },
  {
   "cell_type": "markdown",
   "id": "725649bf-bbb2-4147-8fe6-4799f2eb5a22",
   "metadata": {},
   "source": [
    "# Some data information"
   ]
  },
  {
   "cell_type": "code",
   "execution_count": null,
   "id": "2f5b76a1-de6f-4e44-89fe-1795373fc77e",
   "metadata": {},
   "outputs": [],
   "source": [
    "# Display 2 random rows from the dataset\n",
    "c2c.sample(2)"
   ]
  },
  {
   "cell_type": "code",
   "execution_count": null,
   "id": "3b4ba43b-3f50-4d99-87fd-370334a2b589",
   "metadata": {},
   "outputs": [],
   "source": [
    "# remove the mobility within the same county (use df.query)\n",
    "..."
   ]
  },
  {
   "cell_type": "code",
   "execution_count": null,
   "id": "4b35ca83-5008-4d0e-80cf-0ab6a6d7c8e7",
   "metadata": {},
   "outputs": [],
   "source": [
    "# Print the number of rows, the start and end dates of the dataset (use .min(), .max())\n",
    "..."
   ]
  },
  {
   "cell_type": "code",
   "execution_count": null,
   "id": "65e06856-6840-4a8b-96e2-6733812fec3c",
   "metadata": {},
   "outputs": [],
   "source": [
    "# Compute total population flows per day (use df.groupby)\n",
    "..."
   ]
  },
  {
   "cell_type": "code",
   "execution_count": null,
   "id": "1918ecda-9766-4a11-bd6f-45939aed529e",
   "metadata": {
    "scrolled": true
   },
   "outputs": [],
   "source": [
    "# Plot the timeseries of the total population flows\n",
    "# Hint: ax.plot(x, y, ...)\n",
    "\n",
    "fig, ax = plt.subplots(figsize=(5, 3.7), layout='constrained')\n",
    "ax.plot(..., ..., marker='o', markerfacecolor='white')\n",
    "\n",
    "ax.set_ylabel(\"Total Flow\")\n",
    "ax.set_xlabel(\"Date\")\n",
    "dateFormat(ax)"
   ]
  },
  {
   "cell_type": "markdown",
   "id": "c88d847f-6ada-45da-b31d-bf73d118c385",
   "metadata": {},
   "source": [
    "&nbsp;<br><br><br><br><br><br><br><br><br>"
   ]
  },
  {
   "cell_type": "markdown",
   "id": "ea9e9fd4-e4ab-4277-b14d-959926f575c7",
   "metadata": {},
   "source": [
    "## Deegre and Flow Distribution\n",
    "Degree distribution describes the frequency of nodes by their number of connections; we expect a few highly connected hubs and many sparsely connected nodes.  "
   ]
  },
  {
   "cell_type": "code",
   "execution_count": null,
   "id": "fd003535-6446-459a-8648-729c8a6345b2",
   "metadata": {},
   "outputs": [],
   "source": [
    "c2c.head(2)"
   ]
  },
  {
   "cell_type": "code",
   "execution_count": null,
   "id": "cd986818-c9df-4c98-b409-98d3253a7bbd",
   "metadata": {},
   "outputs": [],
   "source": [
    "# Select data for a specific day (use df.query)\n",
    "c2cOneDay = ...\n",
    "\n",
    "# Filter the data for flows greater than 100 (use df.query) (You can try different filtering criteria)\n",
    "...\n",
    "\n",
    "# Compute the in degree: group by destination and count the number of incoming connections\n",
    "inDegree = ...\n",
    "\n",
    "# Rename the column name for clarity\n",
    "inDegree.columns = ['inDegree']\n",
    "\n",
    "# Get the degree count using np.unique with return_counts=True (https://numpy.org/doc/stable/reference/generated/numpy.unique.html)\n",
    "...\n",
    "\n",
    "# EXTRA: do it for the outdegree, counting the outcoming connections instead incoming connections\n",
    "..."
   ]
  },
  {
   "cell_type": "code",
   "execution_count": null,
   "id": "5fbee6b7-39e6-475f-9705-92606f2143cb",
   "metadata": {},
   "outputs": [],
   "source": [
    "# Plot the degree distribution\n",
    "fig, ax = plt.subplots(figsize=(5, 3.7), layout='constrained')\n",
    "...\n",
    "\n",
    "ax.set_xscale(\"log\")\n",
    "ax.set_yscale(\"log\")\n",
    "ax.set_ylabel(\"p(k)\")\n",
    "ax.set_xlabel(\"Degree\")\n",
    "ax.legend()"
   ]
  },
  {
   "cell_type": "markdown",
   "id": "63f64670-459d-46ee-b9b1-806e7b4f2cb1",
   "metadata": {},
   "source": [
    "## EXTRA: Flow Distribution\n",
    "The flow distribution describes how movement volumes are distributed across edges."
   ]
  },
  {
   "cell_type": "code",
   "execution_count": null,
   "id": "9b4fd288-7b41-464b-9060-7e83b90375a2",
   "metadata": {},
   "outputs": [],
   "source": [
    "# Filter data for a specified date interval like between 2020-03-01 and 2020-03-08\n",
    "c2cFiltered = ...\n",
    "\n",
    "# Take the mean daily flow for each pair of origin destination \n",
    "...\n",
    "\n",
    "# Compute the in/out flow by summing over all connections grouped by origin or destination\n",
    "inFlow = ...\n",
    "outFlow = ...\n",
    "\n",
    "# Rename the resulting series for clarity\n",
    "inFlow.name = 'inFlow'\n",
    "outFlow.name = 'outFlow'\n",
    "\n",
    "# Create an histogram that count the node with certain inFlow or outFlow\n",
    "# 1. what about using a using a logarithmic scale. Sse `np.linspace(start, end, num_points)\n",
    "# 1.1 alternative use a logarithmic scale (use `np.logspace(start_exponent, end_exponent, num_points)`)?\n",
    "# 2. create the counting using `np.histogram` (see doc at https://numpy.org/doc/2.2/reference/generated/numpy.histogram.html)\n",
    "bins = ...\n",
    "inFlowCounts, binEdges = ...\n",
    "outFlowCounts, binEdges = ...\n",
    "\n",
    "\n",
    "# Plot the distribution of inFlow and outFlow\n",
    "fig, ax = plt.subplots(figsize=(5, 3.5), layout='constrained')\n",
    "ax.scatter(bins[1:], inFlowCounts, alpha=0.5, label='in flow')\n",
    "ax.scatter(bins[1:], outFlowCounts, alpha=0.5, label='out flow')\n",
    "\n",
    "ax.set_xscale(\"log\")\n",
    "ax.set_yscale(\"log\")\n",
    "ax.set_ylabel(\"p\")\n",
    "ax.set_xlabel(\"Travel Flow\")\n",
    "ax.legend()"
   ]
  },
  {
   "cell_type": "markdown",
   "id": "7b58fbfc-6026-4374-a291-f4dcea638031",
   "metadata": {},
   "source": [
    "&nbsp;<br><br><br><br><br><br><br><br><br>"
   ]
  },
  {
   "cell_type": "markdown",
   "id": "a0b8f5d9-59ee-460d-b8f7-a11ee6821132",
   "metadata": {},
   "source": [
    "# Plot maps"
   ]
  },
  {
   "cell_type": "code",
   "execution_count": null,
   "id": "bf3f4adf-f690-4fb6-b221-f416d47d3968",
   "metadata": {},
   "outputs": [],
   "source": [
    "# Load the shapefile at the county level\n",
    "# If executing on Google Colab, change the path to:\n",
    "# https://github.com/EPIcx-lab/ESPIDAM-2025---Networks-and-Contact-Patterns-in-Infectious-Disease-Models/raw/main/otherData/US-counties.geojson\n",
    "\n",
    "geoData = gpd.read_file('./otherData/US-counties.geojson')\n",
    "\n",
    "# Convert the coordinate reference system to ESRI:102003\n",
    "geoData = geoData.to_crs(\"ESRI:102003\")\n",
    "\n",
    "# Set the index to 'id' for easy access\n",
    "geoData = geoData.set_index('id')\n",
    "\n",
    "# For visualization purposes, remove Alaska, Hawaii, and Puerto Rico\n",
    "geoData = geoData.query('STATE not in [\"02\", \"15\", \"72\"]')\n",
    "\n",
    "geoData.head(2)"
   ]
  },
  {
   "cell_type": "markdown",
   "id": "fd7979cc-b215-42b8-b772-154e8258a2f0",
   "metadata": {},
   "source": [
    "## Inspect the map dataset"
   ]
  },
  {
   "cell_type": "code",
   "execution_count": null,
   "id": "52d3c7ee-0a8b-460e-832c-14fea637ff83",
   "metadata": {},
   "outputs": [],
   "source": [
    "# Plot the county boundaries, and color each county accordingly to a certain column values (EX: CENSUSAREA)\n",
    "fig, ax = plt.subplots(figsize=(5, 2.7), layout='constrained')\n",
    "geoData.plot(column='CENSUSAREA', linewidth=0.5, cmap='inferno', ax=ax)\n",
    "\n",
    "# Remove the axis\n",
    "ax.axis('off');"
   ]
  },
  {
   "cell_type": "markdown",
   "id": "7984fca2-2741-4eda-a43e-c95b0e43fec4",
   "metadata": {},
   "source": [
    "## Plot flows"
   ]
  },
  {
   "cell_type": "code",
   "execution_count": null,
   "id": "5013d510-449d-4f69-9fb0-23fd71362cac",
   "metadata": {},
   "outputs": [],
   "source": [
    "# Compute the county in and out flow\n",
    "inFlow = c2c.query('date == \"2020-03-02\"').groupby('county_d')[['pop_flows']].sum()\n",
    "outFlow = c2c.query('date == \"2020-03-02\"').groupby('county_o')[['pop_flows']].sum()\n",
    "inFlow.columns = ['inFlow']\n",
    "outFlow.columns = ['outFlow']"
   ]
  },
  {
   "cell_type": "code",
   "execution_count": null,
   "id": "693db321-fba0-493f-b6f4-f17816a9d40b",
   "metadata": {},
   "outputs": [],
   "source": [
    "geoData.sort_index().head(2)"
   ]
  },
  {
   "cell_type": "code",
   "execution_count": null,
   "id": "411bd98b-fdbf-4eb4-895b-45d568d96d6a",
   "metadata": {},
   "outputs": [],
   "source": [
    "inFlow.sort_index().head(2)"
   ]
  },
  {
   "cell_type": "code",
   "execution_count": null,
   "id": "a718310c-67c6-4a6b-9267-6674fb9bb5f8",
   "metadata": {},
   "outputs": [],
   "source": [
    "# 1) Add the 'inFlow' and 'outFlow' columns to geoData.  \n",
    "#    Since the indexes match, we can assign directly (with non-matching indexes will get NaN) like geoData['new_column'] = other_df\n",
    "...\n",
    "\n",
    "\n",
    "# 2) Plot the map coloring bases on inFlow and outFlow\n",
    "fig, axs = plt.subplots(figsize=(10, 3), ncols=2, layout='constrained')\n",
    "\n",
    "# Define a logarithmic normalization for color scaling. Use it in plot function as norm=colorNorm\n",
    "colorNorm = mpl.colors.LogNorm(vmin=geoData[['inFlow', 'outFlow']].min().min(), vmax=geoData[['inFlow', 'outFlow']].max().max())\n",
    "\n",
    "# Plot 'inFlow' data\n",
    "ax = axs[0]\n",
    "...\n",
    "\n",
    "# Plot 'outFlow' data\n",
    "ax = axs[1]\n",
    "..."
   ]
  },
  {
   "cell_type": "markdown",
   "id": "63114579-2d95-4e86-9286-59522edd51d5",
   "metadata": {},
   "source": [
    "## Plot the % change in mobility between 2 dates"
   ]
  },
  {
   "cell_type": "code",
   "execution_count": null,
   "id": "e13d614f-06fc-49a0-a145-793cbc613e15",
   "metadata": {},
   "outputs": [],
   "source": [
    "# Get the node outflows for two dates (dataset span from 2020-03-02 to 2020-04-15)\n",
    "outFlowPre = ...\n",
    "outFlowPost = ...\n",
    "\n",
    "# Compute the percentage variation\n",
    "# Hint: you can perform mathematical operations directly between DataFrame columns\n",
    "diff = ...\n",
    "diff.columns = ['diffFlow']\n",
    "\n",
    "# Merge the variation into geoData\n",
    "...\n",
    "\n",
    "# Plot\n",
    "colorNorm = mpl.colors.TwoSlopeNorm(vmin=-100, vcenter=0, vmax=100)\n",
    "..."
   ]
  },
  {
   "cell_type": "code",
   "execution_count": null,
   "id": "ade8c2e4-1673-4e56-8136-8db8abb0482e",
   "metadata": {},
   "outputs": [],
   "source": [
    "# Pre vs post-lockdown  \n",
    "# Early lockdown period vs later lockdown period  \n",
    "# Weekends vs weekdays  \n",
    "# Inflow vs outflow"
   ]
  },
  {
   "cell_type": "markdown",
   "id": "8fb02d46-dd04-4a3c-b14f-24491d6852d5",
   "metadata": {},
   "source": [
    "&nbsp;<br><br><br><br><br><br><br><br><br>"
   ]
  },
  {
   "cell_type": "markdown",
   "id": "3f22e789-361a-4a8b-990d-f4124296645f",
   "metadata": {},
   "source": [
    "# Covid Lockdown\n",
    "Inspect mobility changes during first COVID lockdown in specific locations"
   ]
  },
  {
   "cell_type": "code",
   "execution_count": null,
   "id": "a2e81018-8298-4ebf-bf8b-ff09c68a5037",
   "metadata": {},
   "outputs": [],
   "source": [
    "# FIPS codes related to NYC  and  San Francisco\n",
    "FIPS_NYC = {'36005', '36047', '36061', '36081', '36085', '35620'}\n",
    "FIPS_SanFrancisco = {'06075', '06081', '06013', '06001', '06041'}"
   ]
  },
  {
   "cell_type": "code",
   "execution_count": null,
   "id": "1fcc1007-763a-4727-887e-9557a056ea98",
   "metadata": {},
   "outputs": [],
   "source": [
    "# Filter the data to obtain the VISITORS flow to NYC not originating from NYC\n",
    "# Alternative: Filter the data to obtain the VISITORS flow to NYC not originating from NYC\n",
    "# Hint: in df.query you can use syntax like (column in @variable) to check if values are in a list and `not` to negate\n",
    "\n",
    "visitorNYC = ...\n",
    "\n",
    "# Use groupby to obtain the total visitors per day\n",
    "...\n",
    "\n",
    "# Repeat for San Francisco\n",
    "..."
   ]
  },
  {
   "cell_type": "code",
   "execution_count": null,
   "id": "e7707fea-1ba0-4f1d-9234-15a4e657ea7d",
   "metadata": {},
   "outputs": [],
   "source": [
    "# Plot timeseries of visitors\n",
    "fig, ax = plt.subplots(figsize=(5, 2.7), layout='constrained')\n",
    "\n",
    "ax.plot(visitorNYC.index, visitorNYC.values, marker='o', markerfacecolor='white', label='NYC')\n",
    "ax.plot(visitorSF.index,  visitorSF.values,  marker='o', markerfacecolor='white', label='San francisco')\n",
    "\n",
    "dateFormat(ax)\n",
    "ax.legend()\n",
    "ax.set_ylabel('Visitors Flow');\n",
    "\n",
    "ax.vlines(pd.Timestamp('2020-03-12'), *ax.get_ylim(), color='C0')\n",
    "ax.vlines(pd.Timestamp('2020-03-16'), *ax.get_ylim(), color='C1')"
   ]
  },
  {
   "cell_type": "code",
   "execution_count": null,
   "id": "e371c8be-6263-4013-b8ed-ad26f33eba54",
   "metadata": {},
   "outputs": [],
   "source": [
    "# What about rural areas?"
   ]
  },
  {
   "cell_type": "code",
   "execution_count": null,
   "id": "f4df28a4-706d-4fd3-862c-e518ff090488",
   "metadata": {},
   "outputs": [],
   "source": []
  },
  {
   "cell_type": "markdown",
   "id": "758072a1-46a8-45ec-b7dc-dd986309d3c0",
   "metadata": {},
   "source": [
    "# EXTRA: Add trip distances"
   ]
  },
  {
   "cell_type": "code",
   "execution_count": null,
   "id": "c088daee-a6cd-4a69-9409-f96592dcc58b",
   "metadata": {},
   "outputs": [],
   "source": [
    "# Load the JSON file with county coordinates\n",
    "# If executing on Google Colab, change the path to:\n",
    "# https://github.com/EPIcx-lab/ESPIDAM-2025---Networks-and-Contact-Patterns-in-Infectious-Disease-Models/raw/main/otherData/US-counties.geojson\n",
    "geoData = gpd.read_file('./otherData/US-counties.geojson')\n",
    "geoData = geoData.to_crs(\"ESRI:102003\")\n",
    "geoData = geoData.set_index('id')\n",
    "\n",
    "# Compute the centroid for each county\n",
    "geoData[\"centroid\"] = geoData.centroid\n",
    "\n",
    "# Filter the data to obtain the VISITORS flow to NYC \n",
    "FIPS_NYC = {'36005', '36047', '36061', '36081', '36085', '35620'}\n",
    "visitorNYC = c2c.query(\"(county_d in @FIPS_NYC) and not (county_o in @FIPS_NYC)\").copy()\n",
    "\n",
    "# Map centroids to origin and destination counties in visitorNYC\n",
    "# Hint: Use the function map on column county_o and county_d\n",
    "visitorNYC['centroid_o'] = visitorNYC['county_o'].map(geoData['centroid'])\n",
    "visitorNYC['centroid_d'] = visitorNYC['county_d'].map(geoData['centroid'])"
   ]
  },
  {
   "cell_type": "code",
   "execution_count": null,
   "id": "51a30260-af5a-4c01-a75a-2e1e68a90c04",
   "metadata": {},
   "outputs": [],
   "source": [
    "visitorNYC.head(2)"
   ]
  },
  {
   "cell_type": "code",
   "execution_count": null,
   "id": "f2b50e2e-dd76-4f55-a7eb-ed6d8e1537c3",
   "metadata": {},
   "outputs": [],
   "source": [
    "# Compute the distances\n",
    "visitorNYC['distance'] = gpd.GeoSeries(visitorNYC['centroid_o'], crs=\"ESRI:102003\").distance(gpd.GeoSeries(visitorNYC['centroid_d'], crs=\"ESRI:102003\"))\n",
    "\n",
    "# Convert distance from meters to kilometers\n",
    "visitorNYC['distance'] /= 1000\n",
    "\n",
    "# Display the first 2 rows of the resulting DataFrame\n",
    "visitorNYC.head(2)"
   ]
  },
  {
   "cell_type": "markdown",
   "id": "223e2997-0df1-462a-8908-2ae877b14eae",
   "metadata": {},
   "source": [
    "## Long vs Short mobility"
   ]
  },
  {
   "cell_type": "code",
   "execution_count": null,
   "id": "814d6d69-55c7-4f98-82ef-e7b655b1a00a",
   "metadata": {},
   "outputs": [],
   "source": [
    "# Create two dataset containing long and short mobility\n",
    "...\n",
    "\n",
    "\n",
    "# Use groupby to obtain the total visitor per day\n",
    "...\n",
    "\n",
    "# Normalize the timeseries\n",
    "# Take the period before the restrictions (ex '2020-03-18') and compute the average number of visitor\n",
    "# Divide the whole timeseies by the average pre-intervention number of visitors \n",
    "...\n",
    "\n",
    "# Plot the timeseries\n",
    "... \n",
    "fig, ax = plt.subplots(figsize=(5, 2.7), layout='constrained')\n",
    "\n",
    "...\n",
    "\n",
    "dateFormat(ax)\n",
    "ax.legend()\n",
    "ax.set_ylabel('Reduction of\\nvisitors Flow');"
   ]
  },
  {
   "cell_type": "markdown",
   "id": "591b063c-dcf2-4bfe-950c-6b6064f9f5ec",
   "metadata": {},
   "source": [
    "&nbsp;<br><br><br><br><br><br><br><br><br>"
   ]
  },
  {
   "cell_type": "markdown",
   "id": "477f910b-f065-4b5d-b267-3139c3114029",
   "metadata": {},
   "source": [
    "# Gravity Model for Mobility\n",
    "\n",
    "The gravity model for mobility is a mathematical model used to predict and describe the movement of individuals between different locations. \n",
    "It is analogous to Newton's law of gravitation, where the interaction between two locations is proportional to their \"masses\" (e.g., population sizes) and inversely proportional to the distance between them. \n",
    "The generalized gravity model introduces exponents to all the coefficients, allowing for more flexibility and accuracy in capturing the complexities of human mobility.\n",
    "\n",
    "\n",
    "The formula for the generalized gravity model is given by:\n",
    "$$T_{ij} = k \\frac{P_i^{\\alpha} P_j^{\\beta}}{D_{ij}^{\\gamma}}$$\n",
    "\n",
    "where:\n",
    "- $ T_{ij} $ is the predicted flow from location $ i $ to location $ j $\n",
    "- $P_i $ and $ P_j $ are the populations of locations $ i $ and $ j $, respectively\n",
    "- $D_{ij} $ is the distance between locations $ i $ and $ j $\n",
    "- $k $ is a constant\n",
    "- $\\alpha $, $ \\beta $, and $ \\gamma $ are the exponents that adjust the influence of the populations and distance on the flow  \n",
    "\n",
    "\n",
    "Here we fit a gravity model to describe the flow **between states**  \n",
    "We are going to fit the model by applying the log of both side so that we obtain a linear model\n",
    "$$\\log(T_{ij}) = \\log(k) + \\alpha \\log(P_i) + \\beta \\log({P_j}) - \\gamma \\log({D_{ij})}$$\n"
   ]
  },
  {
   "cell_type": "code",
   "execution_count": null,
   "id": "b77f472b-96f2-4307-8d45-a0ec4a60a350",
   "metadata": {},
   "outputs": [],
   "source": [
    "# 1) Population \n",
    "# https://github.com/EPIcx-lab/ESPIDAM-2025---Networks-and-Contact-Patterns-in-Infectious-Disease-Models/raw/main/otherData/USPopStates.csv\n",
    "popState = pd.read_csv(\"./otherData/USPopStates.csv\", dtype={\"state\": str}, index_col=0)\n",
    "popState.head(2)"
   ]
  },
  {
   "cell_type": "code",
   "execution_count": null,
   "id": "cff5f595-3dfa-407a-b680-49dd9e756dbf",
   "metadata": {},
   "outputs": [],
   "source": [
    "# 2) Mobility Flow \n",
    "# https://github.com/EPIcx-lab/ESPIDAM-2025---Networks-and-Contact-Patterns-in-Infectious-Disease-Models/raw/main/mobilityflows/mobilityFlowsState.csv.xz\n",
    "s2s = pd.read_csv('./mobilityflows/mobilityFlowsState.csv.xz', dtype={\"state_o\": str, \"state_d\": str})\n",
    "s2s.head(2)"
   ]
  },
  {
   "cell_type": "code",
   "execution_count": null,
   "id": "891afadc-d084-46ee-85a9-569bd6003654",
   "metadata": {},
   "outputs": [],
   "source": [
    "# 3) Distances\n",
    "# https://github.com/EPIcx-lab/ESPIDAM-2025---Networks-and-Contact-Patterns-in-Infectious-Disease-Models/raw/main/otherData/US-states.geojson\n",
    "geoState = gpd.read_file('./otherData/US-states.geojson')\n",
    "geoState = geoState.to_crs(\"ESRI:102003\")\n",
    "geoState = geoState.set_index('GEOID')\n",
    "\n",
    "# Compute the controid for each county\n",
    "geoState[\"centroid\"] = geoState.centroid\n",
    "geoState.head(2)"
   ]
  },
  {
   "cell_type": "code",
   "execution_count": null,
   "id": "230bd211-d44f-4aec-b494-fb19aa556ead",
   "metadata": {},
   "outputs": [],
   "source": [
    "# 4) Merge the three dataset\n",
    "\n",
    "# add population to the travel dataset\n",
    "s2s['pop_o'] = popState.loc[s2s['state_o']].values\n",
    "s2s['pop_d'] = popState.loc[s2s['state_d']].values\n",
    "\n",
    "# add centroid to the travel dataset\n",
    "s2s['centroid_o'] = s2s['state_o'].map(geoState['centroid'])\n",
    "s2s['centroid_d'] = s2s['state_d'].map(geoState['centroid'])\n",
    "s2s = s2s.dropna()\n",
    "\n",
    "# compute distance between centroid\n",
    "s2s['distance'] = gpd.GeoSeries(s2s['centroid_o'], crs=\"ESRI:102003\").distance(gpd.GeoSeries(s2s['centroid_d'], crs=\"ESRI:102003\"))\n",
    "\n",
    "# distance from m to km\n",
    "s2s['distance'] /= 1000\n",
    "\n",
    "s2s = s2s[['state_o','state_d','pop_flows','pop_o','pop_d','distance']]"
   ]
  },
  {
   "cell_type": "code",
   "execution_count": null,
   "id": "2bc2740d-9abe-4d72-a239-f158bcee7edc",
   "metadata": {},
   "outputs": [],
   "source": [
    "s2s.head()"
   ]
  },
  {
   "cell_type": "code",
   "execution_count": null,
   "id": "e589cc59-db24-47bb-a702-c66d5b806431",
   "metadata": {},
   "outputs": [],
   "source": [
    "# Prepare transformed variables for the regression (the log values and a constant)\n",
    "s2s['log_pop_o'] = ...        \n",
    "...                               \n",
    "\n",
    "# Define independent variables (X) and dependent variable (y)\n",
    "X = ...\n",
    "y = ...\n",
    "\n",
    "# Fit an ordinary least squares (OLS) linear regression model\n",
    "model = sm.OLS(y, X)\n",
    "results = model.fit()\n",
    "\n",
    "# Display estimated model coefficients\n",
    "results.params"
   ]
  },
  {
   "cell_type": "code",
   "execution_count": null,
   "id": "af399307-29d9-42ef-804b-fcc7008510f3",
   "metadata": {},
   "outputs": [],
   "source": [
    "K_fitted = ...\n",
    "a_fitted = ... \n",
    "...\n",
    "\n",
    "# Predict travel flows using the fitted gravity model parameters\n",
    "T_ij_predicted = ...\n",
    "\n",
    "# Create a scatter plot: true flows vs. predicted flows\n",
    "fig, ax = plt.subplots(figsize=(3,3), layout='constrained')\n",
    "..."
   ]
  },
  {
   "cell_type": "code",
   "execution_count": null,
   "id": "50296a3f-094e-4e15-9ed0-02c0dae8331e",
   "metadata": {},
   "outputs": [],
   "source": []
  },
  {
   "cell_type": "markdown",
   "id": "0f3dbad0-ea53-447f-aeb8-56ce7316b4b8",
   "metadata": {},
   "source": [
    "&nbsp;<br><br><br><br><br><br><br><br><br>"
   ]
  },
  {
   "cell_type": "markdown",
   "id": "51066ca8-c943-4683-a0b9-ad4dbaf3b951",
   "metadata": {},
   "source": [
    "# EXTRA: Visualize the travel network"
   ]
  },
  {
   "cell_type": "code",
   "execution_count": null,
   "id": "e25ad00f-a58b-4cb5-8908-23cfd1663731",
   "metadata": {},
   "outputs": [],
   "source": [
    "# Install networkx if needed\n",
    "#!pip install networkx"
   ]
  },
  {
   "cell_type": "code",
   "execution_count": null,
   "id": "7ba03834-00bc-40fb-b38f-e3c316481ab7",
   "metadata": {},
   "outputs": [],
   "source": [
    "import networkx as nx\n",
    "hideStates = ['02', '69','44' ,'66' ,'15' ,'60' ,'78' ,'72']"
   ]
  },
  {
   "cell_type": "markdown",
   "id": "421b0c7a-fa1c-405f-914f-aa8f54e13cb9",
   "metadata": {},
   "source": [
    "#### 1) Load the dataset"
   ]
  },
  {
   "cell_type": "code",
   "execution_count": null,
   "id": "b4d3219b-f385-4ec8-8d22-ad89c5bdc628",
   "metadata": {},
   "outputs": [],
   "source": [
    "# 1) NODE dataset\n",
    "# # https://github.com/EPIcx-lab/ESPIDAM-2025---Networks-and-Contact-Patterns-in-Infectious-Disease-Models/raw/main/otherData/US-states.geojson\n",
    "geoState = gpd.read_file('./otherData/US-states.geojson')\n",
    "geoState = geoState.to_crs(\"ESRI:102003\")\n",
    "geoState = geoState.set_index('GEOID')\n",
    "geoState = geoState.query(\"STATEFP not in @hideStates\")\n",
    "geoState[\"centroid\"] = geoState.centroid\n",
    "nodes = geoState.copy()"
   ]
  },
  {
   "cell_type": "code",
   "execution_count": null,
   "id": "9c9e389f-07e7-49ff-a470-4a0c8c8c3715",
   "metadata": {},
   "outputs": [],
   "source": [
    "# 2) LINK dataset: the mobility Flow \n",
    "# https://github.com/EPIcx-lab/ESPIDAM-2025---Networks-and-Contact-Patterns-in-Infectious-Disease-Models/raw/main/mobilityflows/mobilityFlowsState.csv.xz\n",
    "s2s = pd.read_csv('./mobilityflows/mobilityFlowsState.csv.xz', dtype={\"state_o\": str, \"state_d\": str})\n",
    "s2s = s2s.query(\"(state_o not in @hideStates) and (state_d not in @hideStates)\")\n",
    "links = s2s.copy()"
   ]
  },
  {
   "cell_type": "code",
   "execution_count": null,
   "id": "3dd67eb1-14de-48b7-84c5-90fa444ddde3",
   "metadata": {},
   "outputs": [],
   "source": [
    "links.head(2)"
   ]
  },
  {
   "cell_type": "code",
   "execution_count": null,
   "id": "4bba4460-13b4-4258-9929-88ce1a86dceb",
   "metadata": {},
   "outputs": [],
   "source": [
    "nodes.head(1)"
   ]
  },
  {
   "cell_type": "markdown",
   "id": "39241948-1d91-4adc-a317-420abea78faa",
   "metadata": {},
   "source": [
    "#### 2) Prepare the node and link dataset"
   ]
  },
  {
   "cell_type": "code",
   "execution_count": null,
   "id": "e6efa54b-3434-4741-a5e6-24e362826a6e",
   "metadata": {},
   "outputs": [],
   "source": [
    "# Keep only rows where pop_flows is greater than 1000\n",
    "...\n",
    "\n",
    "# Remove flows within the same state.\n",
    "...\n",
    "\n",
    "# Remove flows that include the hidden states.\n",
    "# Hint: Use the query method and access the local variable hideStates with @hideStates in the query string.\n",
    "...\n",
    "\n",
    "# The flow of passengers will represent the links' weight in the network.\n",
    "# Hint: Transform the flow into values between 0 and 10, creating a new column 'w'.\n",
    "...\n",
    "\n",
    "# Compute total outflow per state and add it as a new column in the node dataset.\n",
    "# Hint: Normalize the values between 0 and 300, creating a new column 'w'.\n",
    "..."
   ]
  },
  {
   "cell_type": "markdown",
   "id": "d0138995-5c0e-4620-a8a7-62e1dfdb8408",
   "metadata": {},
   "source": [
    "#### 3) Crete the network"
   ]
  },
  {
   "cell_type": "code",
   "execution_count": null,
   "id": "3e6bfbcb-31fa-4c5d-a7c0-18ba08d33394",
   "metadata": {},
   "outputs": [],
   "source": [
    "# Create the network with NetworkX\n",
    "G = nx.Graph()\n",
    "\n",
    "# Add nodes to the graph named with the state code.\n",
    "# Hint: Iterate over the rows of nodes dataframe using `for index, val in df.iterrows()`\n",
    "# Hint: Iterate over the geoState dataframe and use G.add_node() to add each state.\n",
    "for index, val in nodes.iterrows():\n",
    "    ...\n",
    "\n",
    "# Add links to the graph\n",
    "# Hint: Use G.add_edge(nodeFrom, nodeTo, weight=) to add each link.\n",
    "...\n",
    "\n",
    "# Create a dictionary for each state code with two values (x, y) equal to the centroid.\n",
    "pos = {}\n",
    "for _, row in geoState.iterrows():\n",
    "    pos[row['STATEFP']] = (row['geometry'].centroid.x, row['geometry'].centroid.y)"
   ]
  },
  {
   "cell_type": "markdown",
   "id": "05feac16-2fb7-4aaf-a74d-36237e24ac60",
   "metadata": {},
   "source": [
    "#### 4) Plot"
   ]
  },
  {
   "cell_type": "code",
   "execution_count": null,
   "id": "bbd7446a-ec04-428d-8277-847d57031702",
   "metadata": {},
   "outputs": [],
   "source": [
    "fig, ax = plt.subplots(figsize=(15, 10))\n",
    "geoState.plot(ax=ax, facecolor='none', edgecolor='gray', linewidth=0.5)\n",
    "\n",
    "# Edge weights\n",
    "widths = nx.get_edge_attributes(G, 'weight')\n",
    "nodeDimension = nx.get_node_attributes(G, 'weight')\n",
    "\n",
    "# Draw nodes\n",
    "nx.draw_networkx_nodes(G, pos, ax=ax,\n",
    "                       node_size=[nodeDimension[n] for n in G.nodes()],\n",
    "                       node_color='blue',\n",
    "                       alpha=0.8)\n",
    "\n",
    "# Draw curved edges with FancyArrowPatch\n",
    "nx.draw_networkx_edges(G, pos, ax=ax,\n",
    "                       edgelist=widths.keys(),\n",
    "                       width=list(widths.values()),\n",
    "                       edge_color='crimson',\n",
    "                       alpha=0.6,\n",
    "                       connectionstyle='arc3,rad=0.2',\n",
    "                       arrows=True)\n",
    "\n",
    "ax.axis('off');"
   ]
  },
  {
   "cell_type": "code",
   "execution_count": null,
   "id": "0382ab07-fee8-44e0-8e5e-ff756165f4bc",
   "metadata": {},
   "outputs": [],
   "source": []
  },
  {
   "cell_type": "code",
   "execution_count": null,
   "id": "408a7681-3700-4d95-8e15-e301a284f25a",
   "metadata": {},
   "outputs": [],
   "source": []
  },
  {
   "cell_type": "code",
   "execution_count": null,
   "id": "33490975-7d8b-4ed0-8065-1d500635c210",
   "metadata": {},
   "outputs": [],
   "source": []
  },
  {
   "cell_type": "code",
   "execution_count": null,
   "id": "5c37d3fb-1397-4305-b63a-0f8e8e5e438b",
   "metadata": {},
   "outputs": [],
   "source": []
  },
  {
   "cell_type": "code",
   "execution_count": null,
   "id": "c40a274e-0317-4ea6-b1ab-df6a0c20124b",
   "metadata": {},
   "outputs": [],
   "source": []
  }
 ],
 "metadata": {
  "kernelspec": {
   "display_name": "CCND",
   "language": "python",
   "name": "ccnd"
  },
  "language_info": {
   "codemirror_mode": {
    "name": "ipython",
    "version": 3
   },
   "file_extension": ".py",
   "mimetype": "text/x-python",
   "name": "python",
   "nbconvert_exporter": "python",
   "pygments_lexer": "ipython3",
   "version": "3.12.0"
  }
 },
 "nbformat": 4,
 "nbformat_minor": 5
}

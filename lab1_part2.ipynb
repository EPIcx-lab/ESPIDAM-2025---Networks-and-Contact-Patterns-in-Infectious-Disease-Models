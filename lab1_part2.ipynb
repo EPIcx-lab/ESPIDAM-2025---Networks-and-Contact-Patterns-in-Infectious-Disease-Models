{
 "cells": [
  {
   "cell_type": "markdown",
   "id": "387c5c7d-4d0c-4a59-ad0f-2444d36b42c4",
   "metadata": {},
   "source": [
    "# About this practical session\n",
    "## Importation risk\n",
    "\n",
    "If a disease is detected in county A. Which are the countries at highest risk of importing a case from county A? \n",
    "The risk of importation from a county A to a county B is can be defined as the probability of traveling from A to B, conditional on traveling.  \n",
    "In other words: let us assume that an infected person is about to travel out of the country. Where will they go? Importation risk to country B is the probability that they will go to B.  \n",
    "\n",
    "So we can turn the definition of risk into a mathematical law:   \n",
    "$$C_{ab} = \\frac{W_{ab}}{W_a}$$\n",
    "\n",
    "where the sum of is computed over all countries except the origin country, to obtain the probabily of traveling from to conditionally to traveling. Here, is the risk matrix: is the probability that a case traveling out of country a, ends up in country b. As you can see, this formula is extremely simple and relies on mobility. Nowhere we needed epidemiological data!"
   ]
  },
  {
   "cell_type": "markdown",
   "id": "d88b5e85-991e-4cbe-aad2-23326fdafe1a",
   "metadata": {},
   "source": [
    "# Import libraries"
   ]
  },
  {
   "cell_type": "code",
   "execution_count": null,
   "id": "c7b68006-a859-40a3-b8cc-2b0a23d63bd8",
   "metadata": {},
   "outputs": [],
   "source": [
    "import pandas as pd\n",
    "import numpy as np\n",
    "\n",
    "from matplotlib import pyplot as plt\n",
    "import matplotlib as mpl\n",
    "import matplotlib.dates as mdates\n",
    "\n",
    "import os\n",
    "import geopandas as gpd\n",
    "import statsmodels.api as sm"
   ]
  },
  {
   "cell_type": "code",
   "execution_count": null,
   "id": "bba2c482-ed93-4077-864c-91b9b28761ad",
   "metadata": {
    "scrolled": true
   },
   "outputs": [],
   "source": [
    "# If you encounter an ImportError try installing packages using the following command:\n",
    "# !pip install geopandas"
   ]
  },
  {
   "cell_type": "code",
   "execution_count": null,
   "id": "5f35302d-c416-4f06-b0da-4641022583a4",
   "metadata": {},
   "outputs": [],
   "source": [
    "# A function for formatting dates in plots\n",
    "def dateFormat(ax):\n",
    "    locator = mdates.AutoDateLocator(minticks=5, maxticks=10)\n",
    "    formatter = mdates.ConciseDateFormatter(locator, show_offset=False)\n",
    "    ax.xaxis.set_major_locator(locator)\n",
    "    ax.xaxis.set_major_formatter(formatter)"
   ]
  },
  {
   "cell_type": "markdown",
   "id": "76ed929d-39a8-4a59-a826-812687b06de6",
   "metadata": {},
   "source": [
    "# Read data"
   ]
  },
  {
   "cell_type": "code",
   "execution_count": null,
   "id": "3bcbc808-148c-4ab7-aaf6-253cd1821888",
   "metadata": {},
   "outputs": [],
   "source": [
    "# Load the GeoJSON file with county coordinates\n",
    "geoData = gpd.read_file('https://raw.githubusercontent.com/holtzy/The-Python-Graph-Gallery/master/static/data/US-counties.geojson')\n",
    "geoData = geoData.to_crs(\"ESRI:102003\")\n",
    "geoData = geoData.set_index('id')\n",
    "\n",
    "hideStates = ['02', '69','44' ,'66' ,'15' ,'60' ,'78' ,'72']\n",
    "geoData = geoData.query(\"STATE not in @hideStates\")"
   ]
  },
  {
   "cell_type": "code",
   "execution_count": null,
   "id": "cb67db7c-1c8e-44d6-870c-000223fddd39",
   "metadata": {},
   "outputs": [],
   "source": [
    "# Read county to county csv file\n",
    "# 'https://github.com/EPIcx-lab/ESPIDAM-2025---Networks-and-Contact-Patterns-in-Infectious-Disease-Models/raw/main/mobilityflows/mobilityFlowsCounty.csv.xz')\n",
    " \n",
    "c2c = pd.read_csv('./mobilityflows/mobilityFlowsCounty.csv.xz', dtype={\"county_o\": str, \"county_d\": str})\n",
    "c2c['date'] = pd.to_datetime(c2c['date']) # transform column in datetime\n",
    "c2c['county_o'] = c2c['county_o'].astype(str).apply(lambda a: a.zfill(5)) #Transform to strings and containing 5 characters\n",
    "c2c['county_d'] = c2c['county_d'].astype(str).apply(lambda a: a.zfill(5)) #Transform to strings and containing 5 characters"
   ]
  },
  {
   "cell_type": "code",
   "execution_count": null,
   "id": "ac07e446-a37b-4586-aadd-3cea4020d646",
   "metadata": {},
   "outputs": [],
   "source": [
    "# Display 10 random rows from the dataset\n",
    "c2c.sample(2)"
   ]
  },
  {
   "cell_type": "code",
   "execution_count": null,
   "id": "b482c1b2-2226-4ba0-8e08-778b1cc29a03",
   "metadata": {},
   "outputs": [],
   "source": [
    "# Should we remove the travel inside the same county?\n",
    "#c2c = c2c.query('county_o != county_d')"
   ]
  },
  {
   "cell_type": "markdown",
   "id": "66596b97-5961-4829-ab31-2b0168a269f0",
   "metadata": {},
   "source": [
    "# Create $C_{ab}$"
   ]
  },
  {
   "cell_type": "code",
   "execution_count": null,
   "id": "9f93131e-18f0-4a6b-83fd-0d4b4bac82bc",
   "metadata": {},
   "outputs": [],
   "source": [
    "# Filter mobility for a certain date\n",
    "df = ... \n",
    "\n",
    "# Compute the denominator W_a\n",
    "Wa = ...\n",
    "\n",
    "# Add the total outgoing flow (W_a) as a new column in the dataframe\n",
    "# Hint: inside the map() function, you can use a Series or DataFrame where the index holds the keys and the values are what you want to assign\n",
    "...\n",
    "\n",
    "# Now compute C_ab as a new column in the dataframe\n",
    "..."
   ]
  },
  {
   "cell_type": "code",
   "execution_count": null,
   "id": "2baa6d68-05f4-48cc-afb6-f8155e7c255a",
   "metadata": {},
   "outputs": [],
   "source": []
  },
  {
   "cell_type": "markdown",
   "id": "4e009e65-8dac-4efb-9f25-ee239ad629c1",
   "metadata": {},
   "source": [
    "# Select a source county and plot on a map the risk "
   ]
  },
  {
   "cell_type": "code",
   "execution_count": null,
   "id": "fe715996-f032-4fa3-811e-5941708199c6",
   "metadata": {},
   "outputs": [],
   "source": [
    "# Select the C_ab values for a specfic location and add the values to geoData \n",
    "source = '36061'  # (New York City, New York)\n",
    "dfSource = df.query('county_o == @source')\n",
    "\n",
    "# Merge geoData with dfSource\n",
    "geoDataC = geoData.merge(dfSource, left_index=True, right_on='county_d')\n",
    "geoDataC.head(2)"
   ]
  },
  {
   "cell_type": "code",
   "execution_count": null,
   "id": "89a1224e-8004-4b8e-a1d0-e278f7bb1c91",
   "metadata": {},
   "outputs": [],
   "source": [
    "fig, ax = plt.subplots(figsize=(12, 4), ncols=1, layout='constrained')\n",
    "colorNorm = mpl.colors.LogNorm(vmin=geoDataC['C'].min(), vmax=geoDataC['C'].max())\n",
    "ax.axis('off')\n",
    "\n",
    "# Plot the whole map only borders\n",
    "geoData.plot(facecolor='None', ax=ax, linewidth=0.1)\n",
    "\n",
    "# Plot the destination color based on risk C.\n",
    "geoDataC.plot(column='C', cmap='inferno_r', ax=ax, linewidth=0, vmax=0.008, legend=True, norm=colorNorm)\n",
    "\n",
    "# Plot the source in green\n",
    "geoData.loc[[source]].plot(facecolor='green', ax=ax, linewidth=0)"
   ]
  },
  {
   "cell_type": "code",
   "execution_count": null,
   "id": "28823b9d-845c-4e2b-8ffe-2e81e4520426",
   "metadata": {},
   "outputs": [],
   "source": [
    "# 1) Where is the most/less dangerous county?\n",
    "# Think about what \"most dangerous\" could mean: \n",
    "# Is it the county with the most connections? The highest total incoming or outgoing flow (e.g., sum of W_ab)? \n",
    "# Explore different definitions and plot\n",
    "..."
   ]
  },
  {
   "cell_type": "code",
   "execution_count": null,
   "id": "85fcd2f1-0168-4522-8907-02d88c8429f7",
   "metadata": {},
   "outputs": [],
   "source": [
    "# 2) Test other sources. Big cities vs more pheripheral counties\n",
    "..."
   ]
  },
  {
   "cell_type": "code",
   "execution_count": null,
   "id": "0973a7cd-0c3e-4348-8cb7-3d410854c37a",
   "metadata": {},
   "outputs": [],
   "source": [
    "# 3) Test different dates, before after lockdown\n",
    "..."
   ]
  },
  {
   "cell_type": "code",
   "execution_count": null,
   "id": "4577f1ad-1029-41ab-83d3-436bda60bd61",
   "metadata": {},
   "outputs": [],
   "source": [
    "# Plot\n",
    "source = '...'\n",
    "\n",
    "dfSource = df.query('county_o == @source')\n",
    "geoDataC = geoData.merge(dfSource, left_index=True, right_on='county_d')\n",
    "\n",
    "fig, ax = plt.subplots(figsize=(12, 4), ncols=1, layout='constrained')\n",
    "ax.axis('off')\n",
    "\n",
    "# Plot the whole map only borders\n",
    "geoData.plot(facecolor='None', ax=ax, linewidth=0.1)\n",
    "\n",
    "# Plot the destination color based on risk C.\n",
    "geoDataC.plot(column='C', cmap='inferno_r', ax=ax, linewidth=0, vmax=0.008, legend=True, norm=colorNorm)\n",
    "geoData.loc[[source]].plot(facecolor='green', ax=ax, linewidth=0)"
   ]
  },
  {
   "cell_type": "code",
   "execution_count": null,
   "id": "15a8c615-e585-435b-aac1-c17ea0452275",
   "metadata": {},
   "outputs": [],
   "source": []
  },
  {
   "cell_type": "code",
   "execution_count": null,
   "id": "bfae6483-d1d2-43c7-b710-84b28997fb78",
   "metadata": {},
   "outputs": [],
   "source": []
  },
  {
   "cell_type": "markdown",
   "id": "c606404d-39d4-46ed-b0d2-9decd6170cc9",
   "metadata": {},
   "source": [
    "# EXTRA: Compare two dates"
   ]
  },
  {
   "cell_type": "code",
   "execution_count": null,
   "id": "1d845f5f-6ffc-474c-9354-4266e9b1fad4",
   "metadata": {},
   "outputs": [],
   "source": [
    "def addColumnC(df):\n",
    "    # Compute the denominator W_a\n",
    "    Wa = df.groupby('county_o')['pop_flows'].sum()\n",
    "    Wa.name = 'Wa'\n",
    "    \n",
    "    # Add the denominator W_a to the df dataframe\n",
    "    df = df.merge(Wa, left_on='county_o', right_index=True)\n",
    "\n",
    "    # Now compute C_ab\n",
    "    df['C'] = df['pop_flows']/df['Wa']\n",
    "    return df"
   ]
  },
  {
   "cell_type": "code",
   "execution_count": null,
   "id": "c8eacedf-359c-4cc3-a56e-dfa3934b746d",
   "metadata": {},
   "outputs": [],
   "source": [
    "# Select a certain date from the c2c DataFrame\n",
    "source = '36061'\n",
    "\n",
    "dfDate1 = c2c.query('date == \"2020-03-02\" and county_o == @source')\n",
    "dfDate2 = c2c.query('date == \"2020-03-28\" and county_o == @source')\n",
    "\n",
    "dfDate1 = addColumnC(dfDate1)\n",
    "dfDate2 = addColumnC(dfDate2)"
   ]
  },
  {
   "cell_type": "code",
   "execution_count": null,
   "id": "1efabbad-6a0d-45b9-b06f-3a447c08caf9",
   "metadata": {},
   "outputs": [],
   "source": [
    "# Merge geoData with dfSource\n",
    "geoDataC1 = geoData.merge(dfDate1, left_index=True, right_on='county_d')\n",
    "geoDataC2 = geoData.merge(dfDate2, left_index=True, right_on='county_d')"
   ]
  },
  {
   "cell_type": "code",
   "execution_count": null,
   "id": "02e04e97-db30-4036-91ea-c9453e84cbdf",
   "metadata": {},
   "outputs": [],
   "source": [
    "fig, axs = plt.subplots(figsize=(12, 4), ncols=2, layout='constrained')\n",
    "colorNorm = mpl.colors.LogNorm(vmin=min(geoDataC1['C'].min(),geoDataC1['C'].min()), vmax=max(geoDataC1['C'].max(),geoDataC1['C'].max()))\n",
    "\n",
    "# Plot the destination color based on risk C.\n",
    "geoDataC1.plot(column='C', cmap='inferno_r', ax=axs[0], linewidth=0, legend=True, norm=colorNorm)\n",
    "geoDataC2.plot(column='C', cmap='inferno_r', ax=axs[1], linewidth=0, legend=True, norm=colorNorm)\n",
    "\n",
    "for ax in axs: \n",
    "    ax.axis('off')\n",
    "    geoData.plot(facecolor='None', ax=ax, linewidth=0.1)\n",
    "    geoData.loc[[source]].plot(facecolor='green', ax=ax, linewidth=0)"
   ]
  },
  {
   "cell_type": "code",
   "execution_count": null,
   "id": "99473190-e0d1-4f95-a57c-ab8267f09fa2",
   "metadata": {},
   "outputs": [],
   "source": [
    "# why do they look similar?"
   ]
  },
  {
   "cell_type": "code",
   "execution_count": null,
   "id": "9251eb72-f0fa-4ed3-98d3-45468115807f",
   "metadata": {},
   "outputs": [],
   "source": []
  },
  {
   "cell_type": "code",
   "execution_count": null,
   "id": "a18ed91a-3faf-437e-85ef-377c6b059ea1",
   "metadata": {},
   "outputs": [],
   "source": []
  },
  {
   "cell_type": "code",
   "execution_count": null,
   "id": "955e6b16-8fdc-42c5-b38a-31ba5fb71396",
   "metadata": {},
   "outputs": [],
   "source": []
  }
 ],
 "metadata": {
  "kernelspec": {
   "display_name": "CCND",
   "language": "python",
   "name": "ccnd"
  },
  "language_info": {
   "codemirror_mode": {
    "name": "ipython",
    "version": 3
   },
   "file_extension": ".py",
   "mimetype": "text/x-python",
   "name": "python",
   "nbconvert_exporter": "python",
   "pygments_lexer": "ipython3",
   "version": "3.12.0"
  }
 },
 "nbformat": 4,
 "nbformat_minor": 5
}
